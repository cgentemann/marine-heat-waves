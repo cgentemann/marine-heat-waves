{
 "cells": [
  {
   "cell_type": "code",
   "execution_count": 1,
   "metadata": {},
   "outputs": [],
   "source": [
    "import xarray as xr\n",
    "import numpy as np\n",
    "import os"
   ]
  },
  {
   "cell_type": "code",
   "execution_count": 2,
   "metadata": {},
   "outputs": [],
   "source": [
    "def get_data():\n",
    "    from pathlib import Path\n",
    "    filelist=[]\n",
    "    dir_data = 'F:/data/sst/noaa_oisst/www.ncei.noaa.gov/data/sea-surface-temperature-optimum-interpolation/access/avhrr-only/'\n",
    "    for filename in Path(dir_data).rglob('*.nc'):\n",
    "#    dir_data = 'F:/data/sst/cmc/CMC0.2deg/v2/data/'\n",
    "#    for filename in Path(dir_data).rglob('*.nc'):\n",
    "        filelist.append(filename)\n",
    "#    ds=xr.open_mfdataset(filelist,chunks={'time':12,'zlev':1,'lat':720,'lon':720},combine='nested',concat_dim='time')#.rename({'latitude':'lat','longitude':'lon'})\n",
    "    ds=xr.open_mfdataset(filelist,combine='nested',concat_dim='time')#.rename({'latitude':'lat','longitude':'lon'})\n",
    "    ds=ds.isel(zlev=0)\n",
    "    ds = ds.resample(time='M',keep_attrs=True).mean(skipna=False,keep_attrs=True)\n",
    "    ds = ds.chunk(chunks={'time':12,'lat':720,'lon':720})\n",
    "    #ds = ds.sel(lat=slice(20,90),lon=slice(-180,-100))\n",
    "    #print(filelist)\n",
    "    return ds\n",
    "def get_data_quarterly():\n",
    "    from pathlib import Path\n",
    "    filelist=[]\n",
    "    dir_data = 'F:/data/sst/noaa_oisst/www.ncei.noaa.gov/data/sea-surface-temperature-optimum-interpolation/access/avhrr-only/'\n",
    "    for filename in Path(dir_data).rglob('*.nc'):\n",
    "#    dir_data = 'F:/data/sst/cmc/CMC0.2deg/v2/data/'\n",
    "#    for filename in Path(dir_data).rglob('*.nc'):\n",
    "        filelist.append(filename)\n",
    "#    ds=xr.open_mfdataset(filelist,chunks={'time':12,'zlev':1,'lat':720,'lon':720},combine='nested',concat_dim='time')#.rename({'latitude':'lat','longitude':'lon'})\n",
    "    ds=xr.open_mfdataset(filelist,combine='nested',concat_dim='time')#.rename({'latitude':'lat','longitude':'lon'})\n",
    "    ds=ds.isel(zlev=0)\n",
    "    ds = ds.resample(time='QS-DEC',keep_attrs=True).mean(skipna=False,keep_attrs=True)\n",
    "    ds = ds.chunk(chunks={'time':12,'lat':720,'lon':720})\n",
    "    #ds = ds.sel(lat=slice(20,90),lon=slice(-180,-100))\n",
    "    #print(filelist)\n",
    "    return ds"
   ]
  },
  {
   "cell_type": "code",
   "execution_count": 5,
   "metadata": {},
   "outputs": [],
   "source": [
    "    from pathlib import Path\n",
    "    filelist=[]\n",
    "    dir_data = 'F:/data/sst/noaa_oisst/www.ncei.noaa.gov/data/sea-surface-temperature-optimum-interpolation/access/avhrr-only/'\n",
    "    for filename in Path(dir_data).rglob('*.nc'):\n",
    "#    dir_data = 'F:/data/sst/cmc/CMC0.2deg/v2/data/'\n",
    "#    for filename in Path(dir_data).rglob('*.nc'):\n",
    "        filelist.append(filename)\n",
    "#    ds=xr.open_mfdataset(filelist,chunks={'time':12,'zlev':1,'lat':720,'lon':720},combine='nested',concat_dim='time')#.rename({'latitude':'lat','longitude':'lon'})\n",
    "    ds=xr.open_mfdataset(filelist,combine='nested',concat_dim='time')#.rename({'latitude':'lat','longitude':'lon'})\n",
    "    ds=ds.isel(zlev=0)\n"
   ]
  },
  {
   "cell_type": "code",
   "execution_count": 12,
   "metadata": {},
   "outputs": [
    {
     "name": "stderr",
     "output_type": "stream",
     "text": [
      "C:\\Users\\gentemann\\Miniconda3\\envs\\satenv\\lib\\site-packages\\dask\\core.py:119: RuntimeWarning: invalid value encountered in greater\n",
      "  return func(*args2)\n"
     ]
    },
    {
     "ename": "MemoryError",
     "evalue": "Unable to allocate array with shape (13960, 720, 1440, 12) and data type float32",
     "output_type": "error",
     "traceback": [
      "\u001b[1;31m---------------------------------------------------------------------------\u001b[0m",
      "\u001b[1;31mMemoryError\u001b[0m                               Traceback (most recent call last)",
      "\u001b[1;32m<ipython-input-12-e471d86fe55b>\u001b[0m in \u001b[0;36m<module>\u001b[1;34m\u001b[0m\n\u001b[0;32m      3\u001b[0m \u001b[0mds_sst\u001b[0m\u001b[1;33m=\u001b[0m\u001b[0mds\u001b[0m\u001b[1;33m.\u001b[0m\u001b[0mchunk\u001b[0m\u001b[1;33m(\u001b[0m\u001b[0mchunks\u001b[0m\u001b[1;33m=\u001b[0m\u001b[1;33m{\u001b[0m\u001b[1;34m'time'\u001b[0m\u001b[1;33m:\u001b[0m\u001b[1;36m24\u001b[0m\u001b[1;33m,\u001b[0m\u001b[1;34m'lat'\u001b[0m\u001b[1;33m:\u001b[0m\u001b[1;36m720\u001b[0m\u001b[1;33m,\u001b[0m\u001b[1;34m'lon'\u001b[0m\u001b[1;33m:\u001b[0m\u001b[1;36m720\u001b[0m\u001b[1;33m}\u001b[0m\u001b[1;33m)\u001b[0m\u001b[1;33m\u001b[0m\u001b[1;33m\u001b[0m\u001b[0m\n\u001b[0;32m      4\u001b[0m \u001b[0mds2\u001b[0m\u001b[1;33m=\u001b[0m\u001b[0mds_sst\u001b[0m\u001b[1;33m.\u001b[0m\u001b[0mwhere\u001b[0m\u001b[1;33m(\u001b[0m\u001b[0mds_sst\u001b[0m\u001b[1;33m.\u001b[0m\u001b[0msst\u001b[0m\u001b[1;33m>\u001b[0m\u001b[1;33m-\u001b[0m\u001b[1;36m10\u001b[0m\u001b[1;33m)\u001b[0m  \u001b[1;31m#put all sst values < -10 to nan\u001b[0m\u001b[1;33m\u001b[0m\u001b[1;33m\u001b[0m\u001b[0m\n\u001b[1;32m----> 5\u001b[1;33m \u001b[0mannual_mean\u001b[0m \u001b[1;33m=\u001b[0m \u001b[0mds2\u001b[0m\u001b[1;33m.\u001b[0m\u001b[0mrolling\u001b[0m\u001b[1;33m(\u001b[0m\u001b[0mtime\u001b[0m\u001b[1;33m=\u001b[0m\u001b[1;36m12\u001b[0m\u001b[1;33m,\u001b[0m \u001b[0mcenter\u001b[0m\u001b[1;33m=\u001b[0m\u001b[1;32mTrue\u001b[0m\u001b[1;33m)\u001b[0m\u001b[1;33m.\u001b[0m\u001b[0mmean\u001b[0m\u001b[1;33m(\u001b[0m\u001b[1;33m)\u001b[0m\u001b[1;33m\u001b[0m\u001b[1;33m\u001b[0m\u001b[0m\n\u001b[0m\u001b[0;32m      6\u001b[0m \u001b[0mds3\u001b[0m \u001b[1;33m=\u001b[0m \u001b[0mds2\u001b[0m\u001b[1;33m-\u001b[0m\u001b[0mannual_mean\u001b[0m  \u001b[1;31m#take out annual mean to remove trends\u001b[0m\u001b[1;33m\u001b[0m\u001b[1;33m\u001b[0m\u001b[0m\n\u001b[0;32m      7\u001b[0m \u001b[0mclimatology_mean\u001b[0m \u001b[1;33m=\u001b[0m \u001b[0mds3\u001b[0m\u001b[1;33m.\u001b[0m\u001b[0mgroupby\u001b[0m\u001b[1;33m(\u001b[0m\u001b[1;34m'time.month'\u001b[0m\u001b[1;33m)\u001b[0m\u001b[1;33m.\u001b[0m\u001b[0mmean\u001b[0m\u001b[1;33m(\u001b[0m\u001b[1;34m'time'\u001b[0m\u001b[1;33m,\u001b[0m\u001b[0mkeep_attrs\u001b[0m\u001b[1;33m=\u001b[0m\u001b[1;32mTrue\u001b[0m\u001b[1;33m,\u001b[0m\u001b[0mskipna\u001b[0m\u001b[1;33m=\u001b[0m\u001b[1;32mFalse\u001b[0m\u001b[1;33m)\u001b[0m \u001b[1;31m#calculate monthly climatology to take out seasonal cycle\u001b[0m\u001b[1;33m\u001b[0m\u001b[1;33m\u001b[0m\u001b[0m\n",
      "\u001b[1;32m~\\Miniconda3\\envs\\satenv\\lib\\site-packages\\xarray\\core\\rolling.py\u001b[0m in \u001b[0;36mmethod\u001b[1;34m(self, **kwargs)\u001b[0m\n\u001b[0;32m    113\u001b[0m         \u001b[1;32mdef\u001b[0m \u001b[0mmethod\u001b[0m\u001b[1;33m(\u001b[0m\u001b[0mself\u001b[0m\u001b[1;33m,\u001b[0m \u001b[1;33m**\u001b[0m\u001b[0mkwargs\u001b[0m\u001b[1;33m)\u001b[0m\u001b[1;33m:\u001b[0m\u001b[1;33m\u001b[0m\u001b[1;33m\u001b[0m\u001b[0m\n\u001b[0;32m    114\u001b[0m             return self._numpy_or_bottleneck_reduce(\n\u001b[1;32m--> 115\u001b[1;33m                 \u001b[0marray_agg_func\u001b[0m\u001b[1;33m,\u001b[0m \u001b[0mbottleneck_move_func\u001b[0m\u001b[1;33m,\u001b[0m \u001b[1;33m**\u001b[0m\u001b[0mkwargs\u001b[0m\u001b[1;33m\u001b[0m\u001b[1;33m\u001b[0m\u001b[0m\n\u001b[0m\u001b[0;32m    116\u001b[0m             )\n\u001b[0;32m    117\u001b[0m \u001b[1;33m\u001b[0m\u001b[0m\n",
      "\u001b[1;32m~\\Miniconda3\\envs\\satenv\\lib\\site-packages\\xarray\\core\\rolling.py\u001b[0m in \u001b[0;36m_numpy_or_bottleneck_reduce\u001b[1;34m(self, array_agg_func, bottleneck_move_func, **kwargs)\u001b[0m\n\u001b[0;32m    454\u001b[0m                 \u001b[0mbottleneck_move_func\u001b[0m\u001b[1;33m=\u001b[0m\u001b[0mbottleneck_move_func\u001b[0m\u001b[1;33m,\u001b[0m\u001b[1;33m\u001b[0m\u001b[1;33m\u001b[0m\u001b[0m\n\u001b[0;32m    455\u001b[0m             ),\n\u001b[1;32m--> 456\u001b[1;33m             \u001b[1;33m**\u001b[0m\u001b[0mkwargs\u001b[0m\u001b[1;33m\u001b[0m\u001b[1;33m\u001b[0m\u001b[0m\n\u001b[0m\u001b[0;32m    457\u001b[0m         )\n\u001b[0;32m    458\u001b[0m \u001b[1;33m\u001b[0m\u001b[0m\n",
      "\u001b[1;32m~\\Miniconda3\\envs\\satenv\\lib\\site-packages\\xarray\\core\\rolling.py\u001b[0m in \u001b[0;36m_dataset_implementation\u001b[1;34m(self, func, **kwargs)\u001b[0m\n\u001b[0;32m    415\u001b[0m         \u001b[1;32mfor\u001b[0m \u001b[0mkey\u001b[0m\u001b[1;33m,\u001b[0m \u001b[0mda\u001b[0m \u001b[1;32min\u001b[0m \u001b[0mself\u001b[0m\u001b[1;33m.\u001b[0m\u001b[0mobj\u001b[0m\u001b[1;33m.\u001b[0m\u001b[0mdata_vars\u001b[0m\u001b[1;33m.\u001b[0m\u001b[0mitems\u001b[0m\u001b[1;33m(\u001b[0m\u001b[1;33m)\u001b[0m\u001b[1;33m:\u001b[0m\u001b[1;33m\u001b[0m\u001b[1;33m\u001b[0m\u001b[0m\n\u001b[0;32m    416\u001b[0m             \u001b[1;32mif\u001b[0m \u001b[0mself\u001b[0m\u001b[1;33m.\u001b[0m\u001b[0mdim\u001b[0m \u001b[1;32min\u001b[0m \u001b[0mda\u001b[0m\u001b[1;33m.\u001b[0m\u001b[0mdims\u001b[0m\u001b[1;33m:\u001b[0m\u001b[1;33m\u001b[0m\u001b[1;33m\u001b[0m\u001b[0m\n\u001b[1;32m--> 417\u001b[1;33m                 \u001b[0mreduced\u001b[0m\u001b[1;33m[\u001b[0m\u001b[0mkey\u001b[0m\u001b[1;33m]\u001b[0m \u001b[1;33m=\u001b[0m \u001b[0mfunc\u001b[0m\u001b[1;33m(\u001b[0m\u001b[0mself\u001b[0m\u001b[1;33m.\u001b[0m\u001b[0mrollings\u001b[0m\u001b[1;33m[\u001b[0m\u001b[0mkey\u001b[0m\u001b[1;33m]\u001b[0m\u001b[1;33m,\u001b[0m \u001b[1;33m**\u001b[0m\u001b[0mkwargs\u001b[0m\u001b[1;33m)\u001b[0m\u001b[1;33m\u001b[0m\u001b[1;33m\u001b[0m\u001b[0m\n\u001b[0m\u001b[0;32m    418\u001b[0m             \u001b[1;32melse\u001b[0m\u001b[1;33m:\u001b[0m\u001b[1;33m\u001b[0m\u001b[1;33m\u001b[0m\u001b[0m\n\u001b[0;32m    419\u001b[0m                 \u001b[0mreduced\u001b[0m\u001b[1;33m[\u001b[0m\u001b[0mkey\u001b[0m\u001b[1;33m]\u001b[0m \u001b[1;33m=\u001b[0m \u001b[0mself\u001b[0m\u001b[1;33m.\u001b[0m\u001b[0mobj\u001b[0m\u001b[1;33m[\u001b[0m\u001b[0mkey\u001b[0m\u001b[1;33m]\u001b[0m\u001b[1;33m\u001b[0m\u001b[1;33m\u001b[0m\u001b[0m\n",
      "\u001b[1;32m~\\Miniconda3\\envs\\satenv\\lib\\site-packages\\xarray\\core\\rolling.py\u001b[0m in \u001b[0;36m_numpy_or_bottleneck_reduce\u001b[1;34m(self, array_agg_func, bottleneck_move_func, **kwargs)\u001b[0m\n\u001b[0;32m    359\u001b[0m             \u001b[1;32mreturn\u001b[0m \u001b[0mself\u001b[0m\u001b[1;33m.\u001b[0m\u001b[0m_bottleneck_reduce\u001b[0m\u001b[1;33m(\u001b[0m\u001b[0mbottleneck_move_func\u001b[0m\u001b[1;33m,\u001b[0m \u001b[1;33m**\u001b[0m\u001b[0mkwargs\u001b[0m\u001b[1;33m)\u001b[0m\u001b[1;33m\u001b[0m\u001b[1;33m\u001b[0m\u001b[0m\n\u001b[0;32m    360\u001b[0m         \u001b[1;32melse\u001b[0m\u001b[1;33m:\u001b[0m\u001b[1;33m\u001b[0m\u001b[1;33m\u001b[0m\u001b[0m\n\u001b[1;32m--> 361\u001b[1;33m             \u001b[1;32mreturn\u001b[0m \u001b[0mself\u001b[0m\u001b[1;33m.\u001b[0m\u001b[0mreduce\u001b[0m\u001b[1;33m(\u001b[0m\u001b[0marray_agg_func\u001b[0m\u001b[1;33m,\u001b[0m \u001b[1;33m**\u001b[0m\u001b[0mkwargs\u001b[0m\u001b[1;33m)\u001b[0m\u001b[1;33m\u001b[0m\u001b[1;33m\u001b[0m\u001b[0m\n\u001b[0m\u001b[0;32m    362\u001b[0m \u001b[1;33m\u001b[0m\u001b[0m\n\u001b[0;32m    363\u001b[0m \u001b[1;33m\u001b[0m\u001b[0m\n",
      "\u001b[1;32m~\\Miniconda3\\envs\\satenv\\lib\\site-packages\\xarray\\core\\rolling.py\u001b[0m in \u001b[0;36mreduce\u001b[1;34m(self, func, **kwargs)\u001b[0m\n\u001b[0;32m    283\u001b[0m         \u001b[0mrolling_dim\u001b[0m \u001b[1;33m=\u001b[0m \u001b[0mutils\u001b[0m\u001b[1;33m.\u001b[0m\u001b[0mget_temp_dimname\u001b[0m\u001b[1;33m(\u001b[0m\u001b[0mself\u001b[0m\u001b[1;33m.\u001b[0m\u001b[0mobj\u001b[0m\u001b[1;33m.\u001b[0m\u001b[0mdims\u001b[0m\u001b[1;33m,\u001b[0m \u001b[1;34m\"_rolling_dim\"\u001b[0m\u001b[1;33m)\u001b[0m\u001b[1;33m\u001b[0m\u001b[1;33m\u001b[0m\u001b[0m\n\u001b[0;32m    284\u001b[0m         \u001b[0mwindows\u001b[0m \u001b[1;33m=\u001b[0m \u001b[0mself\u001b[0m\u001b[1;33m.\u001b[0m\u001b[0mconstruct\u001b[0m\u001b[1;33m(\u001b[0m\u001b[0mrolling_dim\u001b[0m\u001b[1;33m)\u001b[0m\u001b[1;33m\u001b[0m\u001b[1;33m\u001b[0m\u001b[0m\n\u001b[1;32m--> 285\u001b[1;33m         \u001b[0mresult\u001b[0m \u001b[1;33m=\u001b[0m \u001b[0mwindows\u001b[0m\u001b[1;33m.\u001b[0m\u001b[0mreduce\u001b[0m\u001b[1;33m(\u001b[0m\u001b[0mfunc\u001b[0m\u001b[1;33m,\u001b[0m \u001b[0mdim\u001b[0m\u001b[1;33m=\u001b[0m\u001b[0mrolling_dim\u001b[0m\u001b[1;33m,\u001b[0m \u001b[1;33m**\u001b[0m\u001b[0mkwargs\u001b[0m\u001b[1;33m)\u001b[0m\u001b[1;33m\u001b[0m\u001b[1;33m\u001b[0m\u001b[0m\n\u001b[0m\u001b[0;32m    286\u001b[0m \u001b[1;33m\u001b[0m\u001b[0m\n\u001b[0;32m    287\u001b[0m         \u001b[1;31m# Find valid windows based on count.\u001b[0m\u001b[1;33m\u001b[0m\u001b[1;33m\u001b[0m\u001b[1;33m\u001b[0m\u001b[0m\n",
      "\u001b[1;32m~\\Miniconda3\\envs\\satenv\\lib\\site-packages\\xarray\\core\\dataarray.py\u001b[0m in \u001b[0;36mreduce\u001b[1;34m(self, func, dim, axis, keep_attrs, keepdims, **kwargs)\u001b[0m\n\u001b[0;32m   2146\u001b[0m         \"\"\"\n\u001b[0;32m   2147\u001b[0m \u001b[1;33m\u001b[0m\u001b[0m\n\u001b[1;32m-> 2148\u001b[1;33m         \u001b[0mvar\u001b[0m \u001b[1;33m=\u001b[0m \u001b[0mself\u001b[0m\u001b[1;33m.\u001b[0m\u001b[0mvariable\u001b[0m\u001b[1;33m.\u001b[0m\u001b[0mreduce\u001b[0m\u001b[1;33m(\u001b[0m\u001b[0mfunc\u001b[0m\u001b[1;33m,\u001b[0m \u001b[0mdim\u001b[0m\u001b[1;33m,\u001b[0m \u001b[0maxis\u001b[0m\u001b[1;33m,\u001b[0m \u001b[0mkeep_attrs\u001b[0m\u001b[1;33m,\u001b[0m \u001b[0mkeepdims\u001b[0m\u001b[1;33m,\u001b[0m \u001b[1;33m**\u001b[0m\u001b[0mkwargs\u001b[0m\u001b[1;33m)\u001b[0m\u001b[1;33m\u001b[0m\u001b[1;33m\u001b[0m\u001b[0m\n\u001b[0m\u001b[0;32m   2149\u001b[0m         \u001b[1;32mreturn\u001b[0m \u001b[0mself\u001b[0m\u001b[1;33m.\u001b[0m\u001b[0m_replace_maybe_drop_dims\u001b[0m\u001b[1;33m(\u001b[0m\u001b[0mvar\u001b[0m\u001b[1;33m)\u001b[0m\u001b[1;33m\u001b[0m\u001b[1;33m\u001b[0m\u001b[0m\n\u001b[0;32m   2150\u001b[0m \u001b[1;33m\u001b[0m\u001b[0m\n",
      "\u001b[1;32m~\\Miniconda3\\envs\\satenv\\lib\\site-packages\\xarray\\core\\variable.py\u001b[0m in \u001b[0;36mreduce\u001b[1;34m(self, func, dim, axis, keep_attrs, keepdims, allow_lazy, **kwargs)\u001b[0m\n\u001b[0;32m   1458\u001b[0m         \u001b[1;32mif\u001b[0m \u001b[0mdim\u001b[0m \u001b[1;32mis\u001b[0m \u001b[1;32mnot\u001b[0m \u001b[1;32mNone\u001b[0m\u001b[1;33m:\u001b[0m\u001b[1;33m\u001b[0m\u001b[1;33m\u001b[0m\u001b[0m\n\u001b[0;32m   1459\u001b[0m             \u001b[0maxis\u001b[0m \u001b[1;33m=\u001b[0m \u001b[0mself\u001b[0m\u001b[1;33m.\u001b[0m\u001b[0mget_axis_num\u001b[0m\u001b[1;33m(\u001b[0m\u001b[0mdim\u001b[0m\u001b[1;33m)\u001b[0m\u001b[1;33m\u001b[0m\u001b[1;33m\u001b[0m\u001b[0m\n\u001b[1;32m-> 1460\u001b[1;33m         \u001b[0minput_data\u001b[0m \u001b[1;33m=\u001b[0m \u001b[0mself\u001b[0m\u001b[1;33m.\u001b[0m\u001b[0mdata\u001b[0m \u001b[1;32mif\u001b[0m \u001b[0mallow_lazy\u001b[0m \u001b[1;32melse\u001b[0m \u001b[0mself\u001b[0m\u001b[1;33m.\u001b[0m\u001b[0mvalues\u001b[0m\u001b[1;33m\u001b[0m\u001b[1;33m\u001b[0m\u001b[0m\n\u001b[0m\u001b[0;32m   1461\u001b[0m         \u001b[1;32mif\u001b[0m \u001b[0maxis\u001b[0m \u001b[1;32mis\u001b[0m \u001b[1;32mnot\u001b[0m \u001b[1;32mNone\u001b[0m\u001b[1;33m:\u001b[0m\u001b[1;33m\u001b[0m\u001b[1;33m\u001b[0m\u001b[0m\n\u001b[0;32m   1462\u001b[0m             \u001b[0mdata\u001b[0m \u001b[1;33m=\u001b[0m \u001b[0mfunc\u001b[0m\u001b[1;33m(\u001b[0m\u001b[0minput_data\u001b[0m\u001b[1;33m,\u001b[0m \u001b[0maxis\u001b[0m\u001b[1;33m=\u001b[0m\u001b[0maxis\u001b[0m\u001b[1;33m,\u001b[0m \u001b[1;33m**\u001b[0m\u001b[0mkwargs\u001b[0m\u001b[1;33m)\u001b[0m\u001b[1;33m\u001b[0m\u001b[1;33m\u001b[0m\u001b[0m\n",
      "\u001b[1;32m~\\Miniconda3\\envs\\satenv\\lib\\site-packages\\xarray\\core\\variable.py\u001b[0m in \u001b[0;36mvalues\u001b[1;34m(self)\u001b[0m\n\u001b[0;32m    435\u001b[0m     \u001b[1;32mdef\u001b[0m \u001b[0mvalues\u001b[0m\u001b[1;33m(\u001b[0m\u001b[0mself\u001b[0m\u001b[1;33m)\u001b[0m\u001b[1;33m:\u001b[0m\u001b[1;33m\u001b[0m\u001b[1;33m\u001b[0m\u001b[0m\n\u001b[0;32m    436\u001b[0m         \u001b[1;34m\"\"\"The variable's data as a numpy.ndarray\"\"\"\u001b[0m\u001b[1;33m\u001b[0m\u001b[1;33m\u001b[0m\u001b[0m\n\u001b[1;32m--> 437\u001b[1;33m         \u001b[1;32mreturn\u001b[0m \u001b[0m_as_array_or_item\u001b[0m\u001b[1;33m(\u001b[0m\u001b[0mself\u001b[0m\u001b[1;33m.\u001b[0m\u001b[0m_data\u001b[0m\u001b[1;33m)\u001b[0m\u001b[1;33m\u001b[0m\u001b[1;33m\u001b[0m\u001b[0m\n\u001b[0m\u001b[0;32m    438\u001b[0m \u001b[1;33m\u001b[0m\u001b[0m\n\u001b[0;32m    439\u001b[0m     \u001b[1;33m@\u001b[0m\u001b[0mvalues\u001b[0m\u001b[1;33m.\u001b[0m\u001b[0msetter\u001b[0m\u001b[1;33m\u001b[0m\u001b[1;33m\u001b[0m\u001b[0m\n",
      "\u001b[1;32m~\\Miniconda3\\envs\\satenv\\lib\\site-packages\\xarray\\core\\variable.py\u001b[0m in \u001b[0;36m_as_array_or_item\u001b[1;34m(data)\u001b[0m\n\u001b[0;32m    248\u001b[0m     \u001b[0mTODO\u001b[0m\u001b[1;33m:\u001b[0m \u001b[0mremove\u001b[0m \u001b[0mthis\u001b[0m \u001b[1;33m(\u001b[0m\u001b[0mreplace\u001b[0m \u001b[1;32mwith\u001b[0m \u001b[0mnp\u001b[0m\u001b[1;33m.\u001b[0m\u001b[0masarray\u001b[0m\u001b[1;33m)\u001b[0m \u001b[0monce\u001b[0m \u001b[0mthese\u001b[0m \u001b[0missues\u001b[0m \u001b[0mare\u001b[0m \u001b[0mfixed\u001b[0m\u001b[1;33m\u001b[0m\u001b[1;33m\u001b[0m\u001b[0m\n\u001b[0;32m    249\u001b[0m     \"\"\"\n\u001b[1;32m--> 250\u001b[1;33m     \u001b[0mdata\u001b[0m \u001b[1;33m=\u001b[0m \u001b[0mnp\u001b[0m\u001b[1;33m.\u001b[0m\u001b[0masarray\u001b[0m\u001b[1;33m(\u001b[0m\u001b[0mdata\u001b[0m\u001b[1;33m)\u001b[0m\u001b[1;33m\u001b[0m\u001b[1;33m\u001b[0m\u001b[0m\n\u001b[0m\u001b[0;32m    251\u001b[0m     \u001b[1;32mif\u001b[0m \u001b[0mdata\u001b[0m\u001b[1;33m.\u001b[0m\u001b[0mndim\u001b[0m \u001b[1;33m==\u001b[0m \u001b[1;36m0\u001b[0m\u001b[1;33m:\u001b[0m\u001b[1;33m\u001b[0m\u001b[1;33m\u001b[0m\u001b[0m\n\u001b[0;32m    252\u001b[0m         \u001b[1;32mif\u001b[0m \u001b[0mdata\u001b[0m\u001b[1;33m.\u001b[0m\u001b[0mdtype\u001b[0m\u001b[1;33m.\u001b[0m\u001b[0mkind\u001b[0m \u001b[1;33m==\u001b[0m \u001b[1;34m\"M\"\u001b[0m\u001b[1;33m:\u001b[0m\u001b[1;33m\u001b[0m\u001b[1;33m\u001b[0m\u001b[0m\n",
      "\u001b[1;32m~\\Miniconda3\\envs\\satenv\\lib\\site-packages\\numpy\\core\\_asarray.py\u001b[0m in \u001b[0;36masarray\u001b[1;34m(a, dtype, order)\u001b[0m\n\u001b[0;32m     83\u001b[0m \u001b[1;33m\u001b[0m\u001b[0m\n\u001b[0;32m     84\u001b[0m     \"\"\"\n\u001b[1;32m---> 85\u001b[1;33m     \u001b[1;32mreturn\u001b[0m \u001b[0marray\u001b[0m\u001b[1;33m(\u001b[0m\u001b[0ma\u001b[0m\u001b[1;33m,\u001b[0m \u001b[0mdtype\u001b[0m\u001b[1;33m,\u001b[0m \u001b[0mcopy\u001b[0m\u001b[1;33m=\u001b[0m\u001b[1;32mFalse\u001b[0m\u001b[1;33m,\u001b[0m \u001b[0morder\u001b[0m\u001b[1;33m=\u001b[0m\u001b[0morder\u001b[0m\u001b[1;33m)\u001b[0m\u001b[1;33m\u001b[0m\u001b[1;33m\u001b[0m\u001b[0m\n\u001b[0m\u001b[0;32m     86\u001b[0m \u001b[1;33m\u001b[0m\u001b[0m\n\u001b[0;32m     87\u001b[0m \u001b[1;33m\u001b[0m\u001b[0m\n",
      "\u001b[1;32m~\\Miniconda3\\envs\\satenv\\lib\\site-packages\\dask\\array\\core.py\u001b[0m in \u001b[0;36m__array__\u001b[1;34m(self, dtype, **kwargs)\u001b[0m\n\u001b[0;32m    996\u001b[0m \u001b[1;33m\u001b[0m\u001b[0m\n\u001b[0;32m    997\u001b[0m     \u001b[1;32mdef\u001b[0m \u001b[0m__array__\u001b[0m\u001b[1;33m(\u001b[0m\u001b[0mself\u001b[0m\u001b[1;33m,\u001b[0m \u001b[0mdtype\u001b[0m\u001b[1;33m=\u001b[0m\u001b[1;32mNone\u001b[0m\u001b[1;33m,\u001b[0m \u001b[1;33m**\u001b[0m\u001b[0mkwargs\u001b[0m\u001b[1;33m)\u001b[0m\u001b[1;33m:\u001b[0m\u001b[1;33m\u001b[0m\u001b[1;33m\u001b[0m\u001b[0m\n\u001b[1;32m--> 998\u001b[1;33m         \u001b[0mx\u001b[0m \u001b[1;33m=\u001b[0m \u001b[0mself\u001b[0m\u001b[1;33m.\u001b[0m\u001b[0mcompute\u001b[0m\u001b[1;33m(\u001b[0m\u001b[1;33m)\u001b[0m\u001b[1;33m\u001b[0m\u001b[1;33m\u001b[0m\u001b[0m\n\u001b[0m\u001b[0;32m    999\u001b[0m         \u001b[1;32mif\u001b[0m \u001b[0mdtype\u001b[0m \u001b[1;32mand\u001b[0m \u001b[0mx\u001b[0m\u001b[1;33m.\u001b[0m\u001b[0mdtype\u001b[0m \u001b[1;33m!=\u001b[0m \u001b[0mdtype\u001b[0m\u001b[1;33m:\u001b[0m\u001b[1;33m\u001b[0m\u001b[1;33m\u001b[0m\u001b[0m\n\u001b[0;32m   1000\u001b[0m             \u001b[0mx\u001b[0m \u001b[1;33m=\u001b[0m \u001b[0mx\u001b[0m\u001b[1;33m.\u001b[0m\u001b[0mastype\u001b[0m\u001b[1;33m(\u001b[0m\u001b[0mdtype\u001b[0m\u001b[1;33m)\u001b[0m\u001b[1;33m\u001b[0m\u001b[1;33m\u001b[0m\u001b[0m\n",
      "\u001b[1;32m~\\Miniconda3\\envs\\satenv\\lib\\site-packages\\dask\\base.py\u001b[0m in \u001b[0;36mcompute\u001b[1;34m(self, **kwargs)\u001b[0m\n\u001b[0;32m    154\u001b[0m         \u001b[0mdask\u001b[0m\u001b[1;33m.\u001b[0m\u001b[0mbase\u001b[0m\u001b[1;33m.\u001b[0m\u001b[0mcompute\u001b[0m\u001b[1;33m\u001b[0m\u001b[1;33m\u001b[0m\u001b[0m\n\u001b[0;32m    155\u001b[0m         \"\"\"\n\u001b[1;32m--> 156\u001b[1;33m         \u001b[1;33m(\u001b[0m\u001b[0mresult\u001b[0m\u001b[1;33m,\u001b[0m\u001b[1;33m)\u001b[0m \u001b[1;33m=\u001b[0m \u001b[0mcompute\u001b[0m\u001b[1;33m(\u001b[0m\u001b[0mself\u001b[0m\u001b[1;33m,\u001b[0m \u001b[0mtraverse\u001b[0m\u001b[1;33m=\u001b[0m\u001b[1;32mFalse\u001b[0m\u001b[1;33m,\u001b[0m \u001b[1;33m**\u001b[0m\u001b[0mkwargs\u001b[0m\u001b[1;33m)\u001b[0m\u001b[1;33m\u001b[0m\u001b[1;33m\u001b[0m\u001b[0m\n\u001b[0m\u001b[0;32m    157\u001b[0m         \u001b[1;32mreturn\u001b[0m \u001b[0mresult\u001b[0m\u001b[1;33m\u001b[0m\u001b[1;33m\u001b[0m\u001b[0m\n\u001b[0;32m    158\u001b[0m \u001b[1;33m\u001b[0m\u001b[0m\n",
      "\u001b[1;32m~\\Miniconda3\\envs\\satenv\\lib\\site-packages\\dask\\base.py\u001b[0m in \u001b[0;36mcompute\u001b[1;34m(*args, **kwargs)\u001b[0m\n\u001b[0;32m    397\u001b[0m     \u001b[0mpostcomputes\u001b[0m \u001b[1;33m=\u001b[0m \u001b[1;33m[\u001b[0m\u001b[0mx\u001b[0m\u001b[1;33m.\u001b[0m\u001b[0m__dask_postcompute__\u001b[0m\u001b[1;33m(\u001b[0m\u001b[1;33m)\u001b[0m \u001b[1;32mfor\u001b[0m \u001b[0mx\u001b[0m \u001b[1;32min\u001b[0m \u001b[0mcollections\u001b[0m\u001b[1;33m]\u001b[0m\u001b[1;33m\u001b[0m\u001b[1;33m\u001b[0m\u001b[0m\n\u001b[0;32m    398\u001b[0m     \u001b[0mresults\u001b[0m \u001b[1;33m=\u001b[0m \u001b[0mschedule\u001b[0m\u001b[1;33m(\u001b[0m\u001b[0mdsk\u001b[0m\u001b[1;33m,\u001b[0m \u001b[0mkeys\u001b[0m\u001b[1;33m,\u001b[0m \u001b[1;33m**\u001b[0m\u001b[0mkwargs\u001b[0m\u001b[1;33m)\u001b[0m\u001b[1;33m\u001b[0m\u001b[1;33m\u001b[0m\u001b[0m\n\u001b[1;32m--> 399\u001b[1;33m     \u001b[1;32mreturn\u001b[0m \u001b[0mrepack\u001b[0m\u001b[1;33m(\u001b[0m\u001b[1;33m[\u001b[0m\u001b[0mf\u001b[0m\u001b[1;33m(\u001b[0m\u001b[0mr\u001b[0m\u001b[1;33m,\u001b[0m \u001b[1;33m*\u001b[0m\u001b[0ma\u001b[0m\u001b[1;33m)\u001b[0m \u001b[1;32mfor\u001b[0m \u001b[0mr\u001b[0m\u001b[1;33m,\u001b[0m \u001b[1;33m(\u001b[0m\u001b[0mf\u001b[0m\u001b[1;33m,\u001b[0m \u001b[0ma\u001b[0m\u001b[1;33m)\u001b[0m \u001b[1;32min\u001b[0m \u001b[0mzip\u001b[0m\u001b[1;33m(\u001b[0m\u001b[0mresults\u001b[0m\u001b[1;33m,\u001b[0m \u001b[0mpostcomputes\u001b[0m\u001b[1;33m)\u001b[0m\u001b[1;33m]\u001b[0m\u001b[1;33m)\u001b[0m\u001b[1;33m\u001b[0m\u001b[1;33m\u001b[0m\u001b[0m\n\u001b[0m\u001b[0;32m    400\u001b[0m \u001b[1;33m\u001b[0m\u001b[0m\n\u001b[0;32m    401\u001b[0m \u001b[1;33m\u001b[0m\u001b[0m\n",
      "\u001b[1;32m~\\Miniconda3\\envs\\satenv\\lib\\site-packages\\dask\\base.py\u001b[0m in \u001b[0;36m<listcomp>\u001b[1;34m(.0)\u001b[0m\n\u001b[0;32m    397\u001b[0m     \u001b[0mpostcomputes\u001b[0m \u001b[1;33m=\u001b[0m \u001b[1;33m[\u001b[0m\u001b[0mx\u001b[0m\u001b[1;33m.\u001b[0m\u001b[0m__dask_postcompute__\u001b[0m\u001b[1;33m(\u001b[0m\u001b[1;33m)\u001b[0m \u001b[1;32mfor\u001b[0m \u001b[0mx\u001b[0m \u001b[1;32min\u001b[0m \u001b[0mcollections\u001b[0m\u001b[1;33m]\u001b[0m\u001b[1;33m\u001b[0m\u001b[1;33m\u001b[0m\u001b[0m\n\u001b[0;32m    398\u001b[0m     \u001b[0mresults\u001b[0m \u001b[1;33m=\u001b[0m \u001b[0mschedule\u001b[0m\u001b[1;33m(\u001b[0m\u001b[0mdsk\u001b[0m\u001b[1;33m,\u001b[0m \u001b[0mkeys\u001b[0m\u001b[1;33m,\u001b[0m \u001b[1;33m**\u001b[0m\u001b[0mkwargs\u001b[0m\u001b[1;33m)\u001b[0m\u001b[1;33m\u001b[0m\u001b[1;33m\u001b[0m\u001b[0m\n\u001b[1;32m--> 399\u001b[1;33m     \u001b[1;32mreturn\u001b[0m \u001b[0mrepack\u001b[0m\u001b[1;33m(\u001b[0m\u001b[1;33m[\u001b[0m\u001b[0mf\u001b[0m\u001b[1;33m(\u001b[0m\u001b[0mr\u001b[0m\u001b[1;33m,\u001b[0m \u001b[1;33m*\u001b[0m\u001b[0ma\u001b[0m\u001b[1;33m)\u001b[0m \u001b[1;32mfor\u001b[0m \u001b[0mr\u001b[0m\u001b[1;33m,\u001b[0m \u001b[1;33m(\u001b[0m\u001b[0mf\u001b[0m\u001b[1;33m,\u001b[0m \u001b[0ma\u001b[0m\u001b[1;33m)\u001b[0m \u001b[1;32min\u001b[0m \u001b[0mzip\u001b[0m\u001b[1;33m(\u001b[0m\u001b[0mresults\u001b[0m\u001b[1;33m,\u001b[0m \u001b[0mpostcomputes\u001b[0m\u001b[1;33m)\u001b[0m\u001b[1;33m]\u001b[0m\u001b[1;33m)\u001b[0m\u001b[1;33m\u001b[0m\u001b[1;33m\u001b[0m\u001b[0m\n\u001b[0m\u001b[0;32m    400\u001b[0m \u001b[1;33m\u001b[0m\u001b[0m\n\u001b[0;32m    401\u001b[0m \u001b[1;33m\u001b[0m\u001b[0m\n",
      "\u001b[1;32m~\\Miniconda3\\envs\\satenv\\lib\\site-packages\\dask\\array\\core.py\u001b[0m in \u001b[0;36mfinalize\u001b[1;34m(results)\u001b[0m\n\u001b[0;32m    777\u001b[0m     \u001b[1;32mwhile\u001b[0m \u001b[0misinstance\u001b[0m\u001b[1;33m(\u001b[0m\u001b[0mresults2\u001b[0m\u001b[1;33m,\u001b[0m \u001b[1;33m(\u001b[0m\u001b[0mtuple\u001b[0m\u001b[1;33m,\u001b[0m \u001b[0mlist\u001b[0m\u001b[1;33m)\u001b[0m\u001b[1;33m)\u001b[0m\u001b[1;33m:\u001b[0m\u001b[1;33m\u001b[0m\u001b[1;33m\u001b[0m\u001b[0m\n\u001b[0;32m    778\u001b[0m         \u001b[1;32mif\u001b[0m \u001b[0mlen\u001b[0m\u001b[1;33m(\u001b[0m\u001b[0mresults2\u001b[0m\u001b[1;33m)\u001b[0m \u001b[1;33m>\u001b[0m \u001b[1;36m1\u001b[0m\u001b[1;33m:\u001b[0m\u001b[1;33m\u001b[0m\u001b[1;33m\u001b[0m\u001b[0m\n\u001b[1;32m--> 779\u001b[1;33m             \u001b[1;32mreturn\u001b[0m \u001b[0mconcatenate3\u001b[0m\u001b[1;33m(\u001b[0m\u001b[0mresults\u001b[0m\u001b[1;33m)\u001b[0m\u001b[1;33m\u001b[0m\u001b[1;33m\u001b[0m\u001b[0m\n\u001b[0m\u001b[0;32m    780\u001b[0m         \u001b[1;32melse\u001b[0m\u001b[1;33m:\u001b[0m\u001b[1;33m\u001b[0m\u001b[1;33m\u001b[0m\u001b[0m\n\u001b[0;32m    781\u001b[0m             \u001b[0mresults2\u001b[0m \u001b[1;33m=\u001b[0m \u001b[0mresults2\u001b[0m\u001b[1;33m[\u001b[0m\u001b[1;36m0\u001b[0m\u001b[1;33m]\u001b[0m\u001b[1;33m\u001b[0m\u001b[1;33m\u001b[0m\u001b[0m\n",
      "\u001b[1;32m~\\Miniconda3\\envs\\satenv\\lib\\site-packages\\dask\\array\\core.py\u001b[0m in \u001b[0;36mconcatenate3\u001b[1;34m(arrays)\u001b[0m\n\u001b[0;32m   3525\u001b[0m             \u001b[1;32mreturn\u001b[0m \u001b[0mtype\u001b[0m\u001b[1;33m(\u001b[0m\u001b[0mx\u001b[0m\u001b[1;33m)\u001b[0m\u001b[1;33m\u001b[0m\u001b[1;33m\u001b[0m\u001b[0m\n\u001b[0;32m   3526\u001b[0m \u001b[1;33m\u001b[0m\u001b[0m\n\u001b[1;32m-> 3527\u001b[1;33m     \u001b[0mresult\u001b[0m \u001b[1;33m=\u001b[0m \u001b[0mnp\u001b[0m\u001b[1;33m.\u001b[0m\u001b[0mempty\u001b[0m\u001b[1;33m(\u001b[0m\u001b[0mshape\u001b[0m\u001b[1;33m=\u001b[0m\u001b[0mshape\u001b[0m\u001b[1;33m,\u001b[0m \u001b[0mdtype\u001b[0m\u001b[1;33m=\u001b[0m\u001b[0mdtype\u001b[0m\u001b[1;33m(\u001b[0m\u001b[0mdeepfirst\u001b[0m\u001b[1;33m(\u001b[0m\u001b[0marrays\u001b[0m\u001b[1;33m)\u001b[0m\u001b[1;33m)\u001b[0m\u001b[1;33m)\u001b[0m\u001b[1;33m\u001b[0m\u001b[1;33m\u001b[0m\u001b[0m\n\u001b[0m\u001b[0;32m   3528\u001b[0m \u001b[1;33m\u001b[0m\u001b[0m\n\u001b[0;32m   3529\u001b[0m     \u001b[1;32mfor\u001b[0m \u001b[1;33m(\u001b[0m\u001b[0midx\u001b[0m\u001b[1;33m,\u001b[0m \u001b[0marr\u001b[0m\u001b[1;33m)\u001b[0m \u001b[1;32min\u001b[0m \u001b[0mzip\u001b[0m\u001b[1;33m(\u001b[0m\u001b[0mslices_from_chunks\u001b[0m\u001b[1;33m(\u001b[0m\u001b[0mchunks\u001b[0m\u001b[1;33m)\u001b[0m\u001b[1;33m,\u001b[0m \u001b[0mcore\u001b[0m\u001b[1;33m.\u001b[0m\u001b[0mflatten\u001b[0m\u001b[1;33m(\u001b[0m\u001b[0marrays\u001b[0m\u001b[1;33m)\u001b[0m\u001b[1;33m)\u001b[0m\u001b[1;33m:\u001b[0m\u001b[1;33m\u001b[0m\u001b[1;33m\u001b[0m\u001b[0m\n",
      "\u001b[1;31mMemoryError\u001b[0m: Unable to allocate array with shape (13960, 720, 1440, 12) and data type float32"
     ]
    }
   ],
   "source": [
    "#calculate climatology & anomaly\n",
    "#calculate frequency timeseries > 90th percentile, remove trends in data\n",
    "ds_sst=ds.chunk(chunks={'time':24,'lat':720,'lon':720})\n",
    "ds2=ds_sst.where(ds_sst.sst>-10)  #put all sst values < -10 to nan\n",
    "annual_mean = ds2.rolling(time=12, center=True).mean()\n",
    "ds3 = ds2-annual_mean  #take out annual mean to remove trends\n",
    "climatology_mean = ds3.groupby('time.month').mean('time',keep_attrs=True,skipna=False) #calculate monthly climatology to take out seasonal cycle\n",
    "anomalies = ds3.groupby('time.month') - climatology_mean  #calculate anomaly timeseries \n",
    "perc = anomalies.groupby('time.month').reduce(np.nanpercentile, dim='time', q=0.90)  #caluclate 90th percentile\n",
    "anomalies_perc = anomalies.groupby('time.month')/perc  #calculate anomaly fraction of 90th percentile\n",
    "perc_sum_data=anomalies_perc.where(anomalies_perc.sst>=1) #save when data >= 90th percentile\n",
    "norm = perc_sum_data / perc_sum_data  #this will put 1 where >=1 for summing\n",
    "psum = norm.groupby('time.year').sum(dim='time')  #sum over each year\n",
    "\n",
    "\n",
    "#               ds_mean_tem=ds_tem.sel(time=slice(date_start,date_end))\n",
    "#                data_climatology = ds_mean_tem.groupby('time.month').mean('time',keep_attrs=True,skipna=False)\n",
    "#                data_anomaly = ds.groupby('time.month') - data_climatology            \n",
    " "
   ]
  },
  {
   "cell_type": "code",
   "execution_count": 11,
   "metadata": {},
   "outputs": [
    {
     "data": {
      "text/plain": [
       "<xarray.Dataset>\n",
       "Dimensions:  (lat: 720, lon: 1440, time: 13960)\n",
       "Coordinates:\n",
       "    zlev     float32 0.0\n",
       "  * lon      (lon) float32 0.125 0.375 0.625 0.875 ... 359.375 359.625 359.875\n",
       "  * lat      (lat) float32 -89.875 -89.625 -89.375 ... 89.375 89.625 89.875\n",
       "  * time     (time) datetime64[ns] 1981-09-01 1981-09-02 ... 2019-11-20\n",
       "Data variables:\n",
       "    sst      (time, lat, lon) float32 dask.array<chunksize=(12, 720, 720), meta=np.ndarray>\n",
       "    anom     (time, lat, lon) float32 dask.array<chunksize=(12, 720, 720), meta=np.ndarray>\n",
       "    err      (time, lat, lon) float32 dask.array<chunksize=(12, 720, 720), meta=np.ndarray>\n",
       "    ice      (time, lat, lon) float32 dask.array<chunksize=(12, 720, 720), meta=np.ndarray>\n",
       "Attributes:\n",
       "    Conventions:    CF-1.0\n",
       "    title:          Daily-OI-V2, final, Data (Ship, Buoy, AVHRR, GSFC-ice)\n",
       "    History:        Version 2.0\n",
       "    creation_date:  2011-05-04\n",
       "    Source:         NOAA/National Climatic Data Center\n",
       "    Contact:        Dick Reynolds, email: Richard.W.Reynolds@noaa.gov & Chuny..."
      ]
     },
     "execution_count": 11,
     "metadata": {},
     "output_type": "execute_result"
    }
   ],
   "source": [
    "ds_sst"
   ]
  },
  {
   "cell_type": "code",
   "execution_count": null,
   "metadata": {},
   "outputs": [],
   "source": [
    "#marisol movie\n",
    "import cartopy.crs as ccrs                  \n",
    "import cartopy.feature as cf                \n",
    "import matplotlib.pyplot as plt\n",
    "import cartopy as cart\n",
    "ds_sst = get_data()\n",
    "icnt=0\n",
    "for itime in range(-107,-1):\n",
    "    ds=ds_sst.isel(time=itime)#.sel(lat=slice(20,90),lon=slice(100,250))\n",
    "    ds.coords['lon']=(ds.coords['lon']+180)%360-180\n",
    "    ds=ds.sortby(ds.lon)\n",
    "    fig = plt.figure(figsize=(8,8))\n",
    "    #ax = plt.axes(projection = ccrs.NorthPolarStereo(central_longitude=-150.0))  # create a set of axes with Mercator projection\n",
    "    ax = plt.axes(projection = ccrs.PlateCarree())  # create a set of axes with Mercator projection\n",
    "    im=ax.pcolormesh(ds.lon.values,ds.lat.values,ds.anom,transform=ccrs.PlateCarree(),cmap='jet',vmin=-3,vmax=3);\n",
    "    #im=ax.pcolormesh(ds.lon.values,ds.lat.values,ds.anom,transform=ccrs.PlateCarree(),cmap='rainbow',vmin=-3,vmax=3);\n",
    "    ax.add_feature(cart.feature.LAND, zorder=100, edgecolor='k',facecolor='k')\n",
    "    #ax.coastlines(resolution='10m')                \n",
    "    ax.set_extent([-180,-110,20,70])\n",
    "    #ax.set_extent([100,250,20,80])\n",
    "    #ax.legend()\n",
    "    cax = fig.add_axes([0.62, 0.68, 0.25, 0.01])#,crs=ccrs.NorthPolarStereo)\n",
    "    cbar = fig.colorbar(im,cax=cax, orientation='horizontal') #,color='w')\n",
    "    cbar.ax.tick_params(color=\"white\", width=3, length=7)\n",
    "    #ticklabs = cbar.ax.get_xticklabels()\n",
    "    #cbar.ax.set_xticklabels(ticklabs, fontsize=10,color='w')\n",
    "    cbytick_obj = plt.getp(cbar.ax.axes, 'xticklabels')                #tricky\n",
    "    plt.setp(cbytick_obj, color='w',weight='bold')\n",
    "    cbar.set_label('SST ($^\\circ$C)',color='w',weight='bold')\n",
    "    pltdate=ds.time\n",
    "    text=ax.text(225,21,np.datetime_as_string(pltdate, unit='D'),size=20,transform=ccrs.PlateCarree(),zorder=100)\n",
    "    adir_figs='F:/data/NASA_biophysical/blob/monthly/'\n",
    "    fname=adir_figs+'_tmp'+str(icnt).zfill(4)+'.png'\n",
    "    icnt+=1\n",
    "    print(fname)\n",
    "    plt.savefig(fname) \n",
    "    plt.clf()\n"
   ]
  },
  {
   "cell_type": "code",
   "execution_count": 132,
   "metadata": {},
   "outputs": [
    {
     "name": "stdout",
     "output_type": "stream",
     "text": [
      "F:/data/NASA_biophysical/blob/quarterly/_tmp0000.png\n",
      "F:/data/NASA_biophysical/blob/quarterly/_tmp0001.png\n",
      "F:/data/NASA_biophysical/blob/quarterly/_tmp0002.png\n",
      "F:/data/NASA_biophysical/blob/quarterly/_tmp0003.png\n",
      "F:/data/NASA_biophysical/blob/quarterly/_tmp0004.png\n",
      "F:/data/NASA_biophysical/blob/quarterly/_tmp0005.png\n",
      "F:/data/NASA_biophysical/blob/quarterly/_tmp0006.png\n",
      "F:/data/NASA_biophysical/blob/quarterly/_tmp0007.png\n",
      "F:/data/NASA_biophysical/blob/quarterly/_tmp0008.png\n",
      "F:/data/NASA_biophysical/blob/quarterly/_tmp0009.png\n",
      "F:/data/NASA_biophysical/blob/quarterly/_tmp0010.png\n",
      "F:/data/NASA_biophysical/blob/quarterly/_tmp0011.png\n",
      "F:/data/NASA_biophysical/blob/quarterly/_tmp0012.png\n",
      "F:/data/NASA_biophysical/blob/quarterly/_tmp0013.png\n",
      "F:/data/NASA_biophysical/blob/quarterly/_tmp0014.png\n",
      "F:/data/NASA_biophysical/blob/quarterly/_tmp0015.png\n",
      "F:/data/NASA_biophysical/blob/quarterly/_tmp0016.png\n",
      "F:/data/NASA_biophysical/blob/quarterly/_tmp0017.png\n",
      "F:/data/NASA_biophysical/blob/quarterly/_tmp0018.png\n",
      "F:/data/NASA_biophysical/blob/quarterly/_tmp0019.png\n"
     ]
    },
    {
     "name": "stderr",
     "output_type": "stream",
     "text": [
      "C:\\Users\\gentemann\\Miniconda3\\envs\\satenv\\lib\\site-packages\\matplotlib\\pyplot.py:514: RuntimeWarning: More than 20 figures have been opened. Figures created through the pyplot interface (`matplotlib.pyplot.figure`) are retained until explicitly closed and may consume too much memory. (To control this warning, see the rcParam `figure.max_open_warning`).\n",
      "  max_open_warning, RuntimeWarning)\n"
     ]
    },
    {
     "name": "stdout",
     "output_type": "stream",
     "text": [
      "F:/data/NASA_biophysical/blob/quarterly/_tmp0020.png\n",
      "F:/data/NASA_biophysical/blob/quarterly/_tmp0021.png\n",
      "F:/data/NASA_biophysical/blob/quarterly/_tmp0022.png\n",
      "F:/data/NASA_biophysical/blob/quarterly/_tmp0023.png\n",
      "F:/data/NASA_biophysical/blob/quarterly/_tmp0024.png\n",
      "F:/data/NASA_biophysical/blob/quarterly/_tmp0025.png\n",
      "F:/data/NASA_biophysical/blob/quarterly/_tmp0026.png\n",
      "F:/data/NASA_biophysical/blob/quarterly/_tmp0027.png\n",
      "F:/data/NASA_biophysical/blob/quarterly/_tmp0028.png\n",
      "F:/data/NASA_biophysical/blob/quarterly/_tmp0029.png\n",
      "F:/data/NASA_biophysical/blob/quarterly/_tmp0030.png\n",
      "F:/data/NASA_biophysical/blob/quarterly/_tmp0031.png\n",
      "F:/data/NASA_biophysical/blob/quarterly/_tmp0032.png\n",
      "F:/data/NASA_biophysical/blob/quarterly/_tmp0033.png\n",
      "F:/data/NASA_biophysical/blob/quarterly/_tmp0034.png\n",
      "F:/data/NASA_biophysical/blob/quarterly/_tmp0035.png\n",
      "F:/data/NASA_biophysical/blob/quarterly/_tmp0036.png\n",
      "F:/data/NASA_biophysical/blob/quarterly/_tmp0037.png\n",
      "F:/data/NASA_biophysical/blob/quarterly/_tmp0038.png\n",
      "F:/data/NASA_biophysical/blob/quarterly/_tmp0039.png\n",
      "F:/data/NASA_biophysical/blob/quarterly/_tmp0040.png\n",
      "F:/data/NASA_biophysical/blob/quarterly/_tmp0041.png\n",
      "F:/data/NASA_biophysical/blob/quarterly/_tmp0042.png\n",
      "F:/data/NASA_biophysical/blob/quarterly/_tmp0043.png\n",
      "F:/data/NASA_biophysical/blob/quarterly/_tmp0044.png\n",
      "F:/data/NASA_biophysical/blob/quarterly/_tmp0045.png\n",
      "F:/data/NASA_biophysical/blob/quarterly/_tmp0046.png\n",
      "F:/data/NASA_biophysical/blob/quarterly/_tmp0047.png\n",
      "F:/data/NASA_biophysical/blob/quarterly/_tmp0048.png\n",
      "F:/data/NASA_biophysical/blob/quarterly/_tmp0049.png\n",
      "F:/data/NASA_biophysical/blob/quarterly/_tmp0050.png\n",
      "F:/data/NASA_biophysical/blob/quarterly/_tmp0051.png\n",
      "F:/data/NASA_biophysical/blob/quarterly/_tmp0052.png\n",
      "F:/data/NASA_biophysical/blob/quarterly/_tmp0053.png\n",
      "F:/data/NASA_biophysical/blob/quarterly/_tmp0054.png\n",
      "F:/data/NASA_biophysical/blob/quarterly/_tmp0055.png\n",
      "F:/data/NASA_biophysical/blob/quarterly/_tmp0056.png\n",
      "F:/data/NASA_biophysical/blob/quarterly/_tmp0057.png\n",
      "F:/data/NASA_biophysical/blob/quarterly/_tmp0058.png\n",
      "F:/data/NASA_biophysical/blob/quarterly/_tmp0059.png\n",
      "F:/data/NASA_biophysical/blob/quarterly/_tmp0060.png\n",
      "F:/data/NASA_biophysical/blob/quarterly/_tmp0061.png\n",
      "F:/data/NASA_biophysical/blob/quarterly/_tmp0062.png\n",
      "F:/data/NASA_biophysical/blob/quarterly/_tmp0063.png\n",
      "F:/data/NASA_biophysical/blob/quarterly/_tmp0064.png\n",
      "F:/data/NASA_biophysical/blob/quarterly/_tmp0065.png\n",
      "F:/data/NASA_biophysical/blob/quarterly/_tmp0066.png\n",
      "F:/data/NASA_biophysical/blob/quarterly/_tmp0067.png\n",
      "F:/data/NASA_biophysical/blob/quarterly/_tmp0068.png\n",
      "F:/data/NASA_biophysical/blob/quarterly/_tmp0069.png\n",
      "F:/data/NASA_biophysical/blob/quarterly/_tmp0070.png\n",
      "F:/data/NASA_biophysical/blob/quarterly/_tmp0071.png\n",
      "F:/data/NASA_biophysical/blob/quarterly/_tmp0072.png\n",
      "F:/data/NASA_biophysical/blob/quarterly/_tmp0073.png\n",
      "F:/data/NASA_biophysical/blob/quarterly/_tmp0074.png\n",
      "F:/data/NASA_biophysical/blob/quarterly/_tmp0075.png\n",
      "F:/data/NASA_biophysical/blob/quarterly/_tmp0076.png\n",
      "F:/data/NASA_biophysical/blob/quarterly/_tmp0077.png\n",
      "F:/data/NASA_biophysical/blob/quarterly/_tmp0078.png\n",
      "F:/data/NASA_biophysical/blob/quarterly/_tmp0079.png\n",
      "F:/data/NASA_biophysical/blob/quarterly/_tmp0080.png\n",
      "F:/data/NASA_biophysical/blob/quarterly/_tmp0081.png\n",
      "F:/data/NASA_biophysical/blob/quarterly/_tmp0082.png\n",
      "F:/data/NASA_biophysical/blob/quarterly/_tmp0083.png\n",
      "F:/data/NASA_biophysical/blob/quarterly/_tmp0084.png\n",
      "F:/data/NASA_biophysical/blob/quarterly/_tmp0085.png\n",
      "F:/data/NASA_biophysical/blob/quarterly/_tmp0086.png\n",
      "F:/data/NASA_biophysical/blob/quarterly/_tmp0087.png\n",
      "F:/data/NASA_biophysical/blob/quarterly/_tmp0088.png\n",
      "F:/data/NASA_biophysical/blob/quarterly/_tmp0089.png\n",
      "F:/data/NASA_biophysical/blob/quarterly/_tmp0090.png\n",
      "F:/data/NASA_biophysical/blob/quarterly/_tmp0091.png\n",
      "F:/data/NASA_biophysical/blob/quarterly/_tmp0092.png\n",
      "F:/data/NASA_biophysical/blob/quarterly/_tmp0093.png\n",
      "F:/data/NASA_biophysical/blob/quarterly/_tmp0094.png\n",
      "F:/data/NASA_biophysical/blob/quarterly/_tmp0095.png\n",
      "F:/data/NASA_biophysical/blob/quarterly/_tmp0096.png\n",
      "F:/data/NASA_biophysical/blob/quarterly/_tmp0097.png\n",
      "F:/data/NASA_biophysical/blob/quarterly/_tmp0098.png\n",
      "F:/data/NASA_biophysical/blob/quarterly/_tmp0099.png\n",
      "F:/data/NASA_biophysical/blob/quarterly/_tmp0100.png\n",
      "F:/data/NASA_biophysical/blob/quarterly/_tmp0101.png\n",
      "F:/data/NASA_biophysical/blob/quarterly/_tmp0102.png\n",
      "F:/data/NASA_biophysical/blob/quarterly/_tmp0103.png\n",
      "F:/data/NASA_biophysical/blob/quarterly/_tmp0104.png\n",
      "F:/data/NASA_biophysical/blob/quarterly/_tmp0105.png\n"
     ]
    },
    {
     "data": {
      "text/plain": [
       "<Figure size 576x576 with 0 Axes>"
      ]
     },
     "metadata": {},
     "output_type": "display_data"
    },
    {
     "data": {
      "text/plain": [
       "<Figure size 576x576 with 0 Axes>"
      ]
     },
     "metadata": {},
     "output_type": "display_data"
    },
    {
     "data": {
      "text/plain": [
       "<Figure size 576x576 with 0 Axes>"
      ]
     },
     "metadata": {},
     "output_type": "display_data"
    },
    {
     "data": {
      "text/plain": [
       "<Figure size 576x576 with 0 Axes>"
      ]
     },
     "metadata": {},
     "output_type": "display_data"
    },
    {
     "data": {
      "text/plain": [
       "<Figure size 576x576 with 0 Axes>"
      ]
     },
     "metadata": {},
     "output_type": "display_data"
    },
    {
     "data": {
      "text/plain": [
       "<Figure size 576x576 with 0 Axes>"
      ]
     },
     "metadata": {},
     "output_type": "display_data"
    },
    {
     "data": {
      "text/plain": [
       "<Figure size 576x576 with 0 Axes>"
      ]
     },
     "metadata": {},
     "output_type": "display_data"
    },
    {
     "data": {
      "text/plain": [
       "<Figure size 576x576 with 0 Axes>"
      ]
     },
     "metadata": {},
     "output_type": "display_data"
    },
    {
     "data": {
      "text/plain": [
       "<Figure size 576x576 with 0 Axes>"
      ]
     },
     "metadata": {},
     "output_type": "display_data"
    },
    {
     "data": {
      "text/plain": [
       "<Figure size 576x576 with 0 Axes>"
      ]
     },
     "metadata": {},
     "output_type": "display_data"
    },
    {
     "data": {
      "text/plain": [
       "<Figure size 576x576 with 0 Axes>"
      ]
     },
     "metadata": {},
     "output_type": "display_data"
    },
    {
     "data": {
      "text/plain": [
       "<Figure size 576x576 with 0 Axes>"
      ]
     },
     "metadata": {},
     "output_type": "display_data"
    },
    {
     "data": {
      "text/plain": [
       "<Figure size 576x576 with 0 Axes>"
      ]
     },
     "metadata": {},
     "output_type": "display_data"
    },
    {
     "data": {
      "text/plain": [
       "<Figure size 576x576 with 0 Axes>"
      ]
     },
     "metadata": {},
     "output_type": "display_data"
    },
    {
     "data": {
      "text/plain": [
       "<Figure size 576x576 with 0 Axes>"
      ]
     },
     "metadata": {},
     "output_type": "display_data"
    },
    {
     "data": {
      "text/plain": [
       "<Figure size 576x576 with 0 Axes>"
      ]
     },
     "metadata": {},
     "output_type": "display_data"
    },
    {
     "data": {
      "text/plain": [
       "<Figure size 576x576 with 0 Axes>"
      ]
     },
     "metadata": {},
     "output_type": "display_data"
    },
    {
     "data": {
      "text/plain": [
       "<Figure size 576x576 with 0 Axes>"
      ]
     },
     "metadata": {},
     "output_type": "display_data"
    },
    {
     "data": {
      "text/plain": [
       "<Figure size 576x576 with 0 Axes>"
      ]
     },
     "metadata": {},
     "output_type": "display_data"
    },
    {
     "data": {
      "text/plain": [
       "<Figure size 576x576 with 0 Axes>"
      ]
     },
     "metadata": {},
     "output_type": "display_data"
    },
    {
     "data": {
      "text/plain": [
       "<Figure size 576x576 with 0 Axes>"
      ]
     },
     "metadata": {},
     "output_type": "display_data"
    },
    {
     "data": {
      "text/plain": [
       "<Figure size 576x576 with 0 Axes>"
      ]
     },
     "metadata": {},
     "output_type": "display_data"
    },
    {
     "data": {
      "text/plain": [
       "<Figure size 576x576 with 0 Axes>"
      ]
     },
     "metadata": {},
     "output_type": "display_data"
    },
    {
     "data": {
      "text/plain": [
       "<Figure size 576x576 with 0 Axes>"
      ]
     },
     "metadata": {},
     "output_type": "display_data"
    },
    {
     "data": {
      "text/plain": [
       "<Figure size 576x576 with 0 Axes>"
      ]
     },
     "metadata": {},
     "output_type": "display_data"
    },
    {
     "data": {
      "text/plain": [
       "<Figure size 576x576 with 0 Axes>"
      ]
     },
     "metadata": {},
     "output_type": "display_data"
    },
    {
     "data": {
      "text/plain": [
       "<Figure size 576x576 with 0 Axes>"
      ]
     },
     "metadata": {},
     "output_type": "display_data"
    },
    {
     "data": {
      "text/plain": [
       "<Figure size 576x576 with 0 Axes>"
      ]
     },
     "metadata": {},
     "output_type": "display_data"
    },
    {
     "data": {
      "text/plain": [
       "<Figure size 576x576 with 0 Axes>"
      ]
     },
     "metadata": {},
     "output_type": "display_data"
    },
    {
     "data": {
      "text/plain": [
       "<Figure size 576x576 with 0 Axes>"
      ]
     },
     "metadata": {},
     "output_type": "display_data"
    },
    {
     "data": {
      "text/plain": [
       "<Figure size 576x576 with 0 Axes>"
      ]
     },
     "metadata": {},
     "output_type": "display_data"
    },
    {
     "data": {
      "text/plain": [
       "<Figure size 576x576 with 0 Axes>"
      ]
     },
     "metadata": {},
     "output_type": "display_data"
    },
    {
     "data": {
      "text/plain": [
       "<Figure size 576x576 with 0 Axes>"
      ]
     },
     "metadata": {},
     "output_type": "display_data"
    },
    {
     "data": {
      "text/plain": [
       "<Figure size 576x576 with 0 Axes>"
      ]
     },
     "metadata": {},
     "output_type": "display_data"
    },
    {
     "data": {
      "text/plain": [
       "<Figure size 576x576 with 0 Axes>"
      ]
     },
     "metadata": {},
     "output_type": "display_data"
    },
    {
     "data": {
      "text/plain": [
       "<Figure size 576x576 with 0 Axes>"
      ]
     },
     "metadata": {},
     "output_type": "display_data"
    },
    {
     "data": {
      "text/plain": [
       "<Figure size 576x576 with 0 Axes>"
      ]
     },
     "metadata": {},
     "output_type": "display_data"
    },
    {
     "data": {
      "text/plain": [
       "<Figure size 576x576 with 0 Axes>"
      ]
     },
     "metadata": {},
     "output_type": "display_data"
    },
    {
     "data": {
      "text/plain": [
       "<Figure size 576x576 with 0 Axes>"
      ]
     },
     "metadata": {},
     "output_type": "display_data"
    },
    {
     "data": {
      "text/plain": [
       "<Figure size 576x576 with 0 Axes>"
      ]
     },
     "metadata": {},
     "output_type": "display_data"
    },
    {
     "data": {
      "text/plain": [
       "<Figure size 576x576 with 0 Axes>"
      ]
     },
     "metadata": {},
     "output_type": "display_data"
    },
    {
     "data": {
      "text/plain": [
       "<Figure size 576x576 with 0 Axes>"
      ]
     },
     "metadata": {},
     "output_type": "display_data"
    },
    {
     "data": {
      "text/plain": [
       "<Figure size 576x576 with 0 Axes>"
      ]
     },
     "metadata": {},
     "output_type": "display_data"
    },
    {
     "data": {
      "text/plain": [
       "<Figure size 576x576 with 0 Axes>"
      ]
     },
     "metadata": {},
     "output_type": "display_data"
    },
    {
     "data": {
      "text/plain": [
       "<Figure size 576x576 with 0 Axes>"
      ]
     },
     "metadata": {},
     "output_type": "display_data"
    },
    {
     "data": {
      "text/plain": [
       "<Figure size 576x576 with 0 Axes>"
      ]
     },
     "metadata": {},
     "output_type": "display_data"
    },
    {
     "data": {
      "text/plain": [
       "<Figure size 576x576 with 0 Axes>"
      ]
     },
     "metadata": {},
     "output_type": "display_data"
    },
    {
     "data": {
      "text/plain": [
       "<Figure size 576x576 with 0 Axes>"
      ]
     },
     "metadata": {},
     "output_type": "display_data"
    },
    {
     "data": {
      "text/plain": [
       "<Figure size 576x576 with 0 Axes>"
      ]
     },
     "metadata": {},
     "output_type": "display_data"
    },
    {
     "data": {
      "text/plain": [
       "<Figure size 576x576 with 0 Axes>"
      ]
     },
     "metadata": {},
     "output_type": "display_data"
    },
    {
     "data": {
      "text/plain": [
       "<Figure size 576x576 with 0 Axes>"
      ]
     },
     "metadata": {},
     "output_type": "display_data"
    },
    {
     "data": {
      "text/plain": [
       "<Figure size 576x576 with 0 Axes>"
      ]
     },
     "metadata": {},
     "output_type": "display_data"
    },
    {
     "data": {
      "text/plain": [
       "<Figure size 576x576 with 0 Axes>"
      ]
     },
     "metadata": {},
     "output_type": "display_data"
    },
    {
     "data": {
      "text/plain": [
       "<Figure size 576x576 with 0 Axes>"
      ]
     },
     "metadata": {},
     "output_type": "display_data"
    },
    {
     "data": {
      "text/plain": [
       "<Figure size 576x576 with 0 Axes>"
      ]
     },
     "metadata": {},
     "output_type": "display_data"
    },
    {
     "data": {
      "text/plain": [
       "<Figure size 576x576 with 0 Axes>"
      ]
     },
     "metadata": {},
     "output_type": "display_data"
    },
    {
     "data": {
      "text/plain": [
       "<Figure size 576x576 with 0 Axes>"
      ]
     },
     "metadata": {},
     "output_type": "display_data"
    },
    {
     "data": {
      "text/plain": [
       "<Figure size 576x576 with 0 Axes>"
      ]
     },
     "metadata": {},
     "output_type": "display_data"
    },
    {
     "data": {
      "text/plain": [
       "<Figure size 576x576 with 0 Axes>"
      ]
     },
     "metadata": {},
     "output_type": "display_data"
    },
    {
     "data": {
      "text/plain": [
       "<Figure size 576x576 with 0 Axes>"
      ]
     },
     "metadata": {},
     "output_type": "display_data"
    },
    {
     "data": {
      "text/plain": [
       "<Figure size 576x576 with 0 Axes>"
      ]
     },
     "metadata": {},
     "output_type": "display_data"
    },
    {
     "data": {
      "text/plain": [
       "<Figure size 576x576 with 0 Axes>"
      ]
     },
     "metadata": {},
     "output_type": "display_data"
    },
    {
     "data": {
      "text/plain": [
       "<Figure size 576x576 with 0 Axes>"
      ]
     },
     "metadata": {},
     "output_type": "display_data"
    },
    {
     "data": {
      "text/plain": [
       "<Figure size 576x576 with 0 Axes>"
      ]
     },
     "metadata": {},
     "output_type": "display_data"
    },
    {
     "data": {
      "text/plain": [
       "<Figure size 576x576 with 0 Axes>"
      ]
     },
     "metadata": {},
     "output_type": "display_data"
    },
    {
     "data": {
      "text/plain": [
       "<Figure size 576x576 with 0 Axes>"
      ]
     },
     "metadata": {},
     "output_type": "display_data"
    },
    {
     "data": {
      "text/plain": [
       "<Figure size 576x576 with 0 Axes>"
      ]
     },
     "metadata": {},
     "output_type": "display_data"
    },
    {
     "data": {
      "text/plain": [
       "<Figure size 576x576 with 0 Axes>"
      ]
     },
     "metadata": {},
     "output_type": "display_data"
    },
    {
     "data": {
      "text/plain": [
       "<Figure size 576x576 with 0 Axes>"
      ]
     },
     "metadata": {},
     "output_type": "display_data"
    },
    {
     "data": {
      "text/plain": [
       "<Figure size 576x576 with 0 Axes>"
      ]
     },
     "metadata": {},
     "output_type": "display_data"
    },
    {
     "data": {
      "text/plain": [
       "<Figure size 576x576 with 0 Axes>"
      ]
     },
     "metadata": {},
     "output_type": "display_data"
    },
    {
     "data": {
      "text/plain": [
       "<Figure size 576x576 with 0 Axes>"
      ]
     },
     "metadata": {},
     "output_type": "display_data"
    },
    {
     "data": {
      "text/plain": [
       "<Figure size 576x576 with 0 Axes>"
      ]
     },
     "metadata": {},
     "output_type": "display_data"
    },
    {
     "data": {
      "text/plain": [
       "<Figure size 576x576 with 0 Axes>"
      ]
     },
     "metadata": {},
     "output_type": "display_data"
    },
    {
     "data": {
      "text/plain": [
       "<Figure size 576x576 with 0 Axes>"
      ]
     },
     "metadata": {},
     "output_type": "display_data"
    },
    {
     "data": {
      "text/plain": [
       "<Figure size 576x576 with 0 Axes>"
      ]
     },
     "metadata": {},
     "output_type": "display_data"
    },
    {
     "data": {
      "text/plain": [
       "<Figure size 576x576 with 0 Axes>"
      ]
     },
     "metadata": {},
     "output_type": "display_data"
    },
    {
     "data": {
      "text/plain": [
       "<Figure size 576x576 with 0 Axes>"
      ]
     },
     "metadata": {},
     "output_type": "display_data"
    },
    {
     "data": {
      "text/plain": [
       "<Figure size 576x576 with 0 Axes>"
      ]
     },
     "metadata": {},
     "output_type": "display_data"
    },
    {
     "data": {
      "text/plain": [
       "<Figure size 576x576 with 0 Axes>"
      ]
     },
     "metadata": {},
     "output_type": "display_data"
    },
    {
     "data": {
      "text/plain": [
       "<Figure size 576x576 with 0 Axes>"
      ]
     },
     "metadata": {},
     "output_type": "display_data"
    },
    {
     "data": {
      "text/plain": [
       "<Figure size 576x576 with 0 Axes>"
      ]
     },
     "metadata": {},
     "output_type": "display_data"
    },
    {
     "data": {
      "text/plain": [
       "<Figure size 576x576 with 0 Axes>"
      ]
     },
     "metadata": {},
     "output_type": "display_data"
    },
    {
     "data": {
      "text/plain": [
       "<Figure size 576x576 with 0 Axes>"
      ]
     },
     "metadata": {},
     "output_type": "display_data"
    },
    {
     "data": {
      "text/plain": [
       "<Figure size 576x576 with 0 Axes>"
      ]
     },
     "metadata": {},
     "output_type": "display_data"
    },
    {
     "data": {
      "text/plain": [
       "<Figure size 576x576 with 0 Axes>"
      ]
     },
     "metadata": {},
     "output_type": "display_data"
    },
    {
     "data": {
      "text/plain": [
       "<Figure size 576x576 with 0 Axes>"
      ]
     },
     "metadata": {},
     "output_type": "display_data"
    },
    {
     "data": {
      "text/plain": [
       "<Figure size 576x576 with 0 Axes>"
      ]
     },
     "metadata": {},
     "output_type": "display_data"
    },
    {
     "data": {
      "text/plain": [
       "<Figure size 576x576 with 0 Axes>"
      ]
     },
     "metadata": {},
     "output_type": "display_data"
    },
    {
     "data": {
      "text/plain": [
       "<Figure size 576x576 with 0 Axes>"
      ]
     },
     "metadata": {},
     "output_type": "display_data"
    },
    {
     "data": {
      "text/plain": [
       "<Figure size 576x576 with 0 Axes>"
      ]
     },
     "metadata": {},
     "output_type": "display_data"
    },
    {
     "data": {
      "text/plain": [
       "<Figure size 576x576 with 0 Axes>"
      ]
     },
     "metadata": {},
     "output_type": "display_data"
    },
    {
     "data": {
      "text/plain": [
       "<Figure size 576x576 with 0 Axes>"
      ]
     },
     "metadata": {},
     "output_type": "display_data"
    },
    {
     "data": {
      "text/plain": [
       "<Figure size 576x576 with 0 Axes>"
      ]
     },
     "metadata": {},
     "output_type": "display_data"
    },
    {
     "data": {
      "text/plain": [
       "<Figure size 576x576 with 0 Axes>"
      ]
     },
     "metadata": {},
     "output_type": "display_data"
    },
    {
     "data": {
      "text/plain": [
       "<Figure size 576x576 with 0 Axes>"
      ]
     },
     "metadata": {},
     "output_type": "display_data"
    },
    {
     "data": {
      "text/plain": [
       "<Figure size 576x576 with 0 Axes>"
      ]
     },
     "metadata": {},
     "output_type": "display_data"
    },
    {
     "data": {
      "text/plain": [
       "<Figure size 576x576 with 0 Axes>"
      ]
     },
     "metadata": {},
     "output_type": "display_data"
    },
    {
     "data": {
      "text/plain": [
       "<Figure size 576x576 with 0 Axes>"
      ]
     },
     "metadata": {},
     "output_type": "display_data"
    },
    {
     "data": {
      "text/plain": [
       "<Figure size 576x576 with 0 Axes>"
      ]
     },
     "metadata": {},
     "output_type": "display_data"
    },
    {
     "data": {
      "text/plain": [
       "<Figure size 576x576 with 0 Axes>"
      ]
     },
     "metadata": {},
     "output_type": "display_data"
    },
    {
     "data": {
      "text/plain": [
       "<Figure size 576x576 with 0 Axes>"
      ]
     },
     "metadata": {},
     "output_type": "display_data"
    },
    {
     "data": {
      "text/plain": [
       "<Figure size 576x576 with 0 Axes>"
      ]
     },
     "metadata": {},
     "output_type": "display_data"
    },
    {
     "data": {
      "text/plain": [
       "<Figure size 576x576 with 0 Axes>"
      ]
     },
     "metadata": {},
     "output_type": "display_data"
    },
    {
     "data": {
      "text/plain": [
       "<Figure size 576x576 with 0 Axes>"
      ]
     },
     "metadata": {},
     "output_type": "display_data"
    },
    {
     "data": {
      "text/plain": [
       "<Figure size 576x576 with 0 Axes>"
      ]
     },
     "metadata": {},
     "output_type": "display_data"
    }
   ],
   "source": [
    "import cartopy.crs as ccrs                  \n",
    "import cartopy.feature as cf                \n",
    "import matplotlib.pyplot as plt\n",
    "import cartopy as cart\n",
    "ds_sst = get_data_quarterly()\n",
    "icnt=0\n",
    "for itime in range(-107,-1):\n",
    "    ds=ds_sst.isel(time=itime)#.sel(lat=slice(20,90),lon=slice(100,250))\n",
    "    ds.coords['lon']=(ds.coords['lon']+180)%360-180\n",
    "    ds=ds.sortby(ds.lon)\n",
    "    fig = plt.figure(figsize=(8,8))\n",
    "    #ax = plt.axes(projection = ccrs.NorthPolarStereo(central_longitude=-150.0))  # create a set of axes with Mercator projection\n",
    "    ax = plt.axes(projection = ccrs.PlateCarree())  # create a set of axes with Mercator projection\n",
    "    im=ax.pcolormesh(ds.lon.values,ds.lat.values,ds.anom,transform=ccrs.PlateCarree(),cmap='jet',vmin=-3,vmax=3);\n",
    "    #im=ax.pcolormesh(ds.lon.values,ds.lat.values,ds.anom,transform=ccrs.PlateCarree(),cmap='rainbow',vmin=-3,vmax=3);\n",
    "    ax.add_feature(cart.feature.LAND, zorder=100, edgecolor='k',facecolor='k')\n",
    "    #ax.coastlines(resolution='10m')                \n",
    "    ax.set_extent([-180,-110,20,70])\n",
    "    #ax.set_extent([100,250,20,80])\n",
    "    #ax.legend()\n",
    "    cax = fig.add_axes([0.62, 0.68, 0.25, 0.01])#,crs=ccrs.NorthPolarStereo)\n",
    "    cbar = fig.colorbar(im,cax=cax, orientation='horizontal') #,color='w')\n",
    "    cbar.ax.tick_params(color=\"white\", width=3, length=7)\n",
    "    #ticklabs = cbar.ax.get_xticklabels()\n",
    "    #cbar.ax.set_xticklabels(ticklabs, fontsize=10,color='w')\n",
    "    cbytick_obj = plt.getp(cbar.ax.axes, 'xticklabels')                #tricky\n",
    "    plt.setp(cbytick_obj, color='w',weight='bold')\n",
    "    cbar.set_label('SST ($^\\circ$C)',color='w',weight='bold')\n",
    "    pltdate=ds.time\n",
    "    text=ax.text(225,21,np.datetime_as_string(pltdate, unit='D'),size=20,transform=ccrs.PlateCarree(),zorder=100)\n",
    "    adir_figs='F:/data/NASA_biophysical/blob/quarterly/'\n",
    "    fname=adir_figs+'_tmp'+str(icnt).zfill(4)+'.png'\n",
    "    icnt+=1\n",
    "    print(fname)\n",
    "    plt.savefig(fname) \n",
    "    plt.clf()\n",
    "    \n",
    "#ds=xr.open_dataset('F:/data/sst/noaa_oisst/www.ncei.noaa.gov/data/sea-surface-temperature-optimum-interpolation/access/avhrr-only/200001/avhrr-only-v2.20000101.nc')\n",
    "#ds.close()\n",
    "#ds\n",
    "#ds_sst"
   ]
  },
  {
   "cell_type": "code",
   "execution_count": 219,
   "metadata": {},
   "outputs": [
    {
     "name": "stdout",
     "output_type": "stream",
     "text": [
      "F:/data/NASA_biophysical/blob/monthly_globe/_tmp0000.png\n",
      "F:/data/NASA_biophysical/blob/monthly_globe/_tmp0001.png\n",
      "F:/data/NASA_biophysical/blob/monthly_globe/_tmp0002.png\n",
      "F:/data/NASA_biophysical/blob/monthly_globe/_tmp0003.png\n",
      "F:/data/NASA_biophysical/blob/monthly_globe/_tmp0004.png\n",
      "F:/data/NASA_biophysical/blob/monthly_globe/_tmp0005.png\n",
      "F:/data/NASA_biophysical/blob/monthly_globe/_tmp0006.png\n",
      "F:/data/NASA_biophysical/blob/monthly_globe/_tmp0007.png\n",
      "F:/data/NASA_biophysical/blob/monthly_globe/_tmp0008.png\n",
      "F:/data/NASA_biophysical/blob/monthly_globe/_tmp0009.png\n",
      "F:/data/NASA_biophysical/blob/monthly_globe/_tmp0010.png\n",
      "F:/data/NASA_biophysical/blob/monthly_globe/_tmp0011.png\n",
      "F:/data/NASA_biophysical/blob/monthly_globe/_tmp0012.png\n",
      "F:/data/NASA_biophysical/blob/monthly_globe/_tmp0013.png\n",
      "F:/data/NASA_biophysical/blob/monthly_globe/_tmp0014.png\n",
      "F:/data/NASA_biophysical/blob/monthly_globe/_tmp0015.png\n",
      "F:/data/NASA_biophysical/blob/monthly_globe/_tmp0016.png\n",
      "F:/data/NASA_biophysical/blob/monthly_globe/_tmp0017.png\n",
      "F:/data/NASA_biophysical/blob/monthly_globe/_tmp0018.png\n",
      "F:/data/NASA_biophysical/blob/monthly_globe/_tmp0019.png\n",
      "F:/data/NASA_biophysical/blob/monthly_globe/_tmp0020.png\n",
      "F:/data/NASA_biophysical/blob/monthly_globe/_tmp0021.png\n",
      "F:/data/NASA_biophysical/blob/monthly_globe/_tmp0022.png\n",
      "F:/data/NASA_biophysical/blob/monthly_globe/_tmp0023.png\n",
      "F:/data/NASA_biophysical/blob/monthly_globe/_tmp0024.png\n",
      "F:/data/NASA_biophysical/blob/monthly_globe/_tmp0025.png\n",
      "F:/data/NASA_biophysical/blob/monthly_globe/_tmp0026.png\n",
      "F:/data/NASA_biophysical/blob/monthly_globe/_tmp0027.png\n",
      "F:/data/NASA_biophysical/blob/monthly_globe/_tmp0028.png\n",
      "F:/data/NASA_biophysical/blob/monthly_globe/_tmp0029.png\n",
      "F:/data/NASA_biophysical/blob/monthly_globe/_tmp0030.png\n",
      "F:/data/NASA_biophysical/blob/monthly_globe/_tmp0031.png\n",
      "F:/data/NASA_biophysical/blob/monthly_globe/_tmp0032.png\n",
      "F:/data/NASA_biophysical/blob/monthly_globe/_tmp0033.png\n",
      "F:/data/NASA_biophysical/blob/monthly_globe/_tmp0034.png\n",
      "F:/data/NASA_biophysical/blob/monthly_globe/_tmp0035.png\n",
      "F:/data/NASA_biophysical/blob/monthly_globe/_tmp0036.png\n",
      "F:/data/NASA_biophysical/blob/monthly_globe/_tmp0037.png\n",
      "F:/data/NASA_biophysical/blob/monthly_globe/_tmp0038.png\n",
      "F:/data/NASA_biophysical/blob/monthly_globe/_tmp0039.png\n",
      "F:/data/NASA_biophysical/blob/monthly_globe/_tmp0040.png\n",
      "F:/data/NASA_biophysical/blob/monthly_globe/_tmp0041.png\n",
      "F:/data/NASA_biophysical/blob/monthly_globe/_tmp0042.png\n",
      "F:/data/NASA_biophysical/blob/monthly_globe/_tmp0043.png\n",
      "F:/data/NASA_biophysical/blob/monthly_globe/_tmp0044.png\n",
      "F:/data/NASA_biophysical/blob/monthly_globe/_tmp0045.png\n",
      "F:/data/NASA_biophysical/blob/monthly_globe/_tmp0046.png\n",
      "F:/data/NASA_biophysical/blob/monthly_globe/_tmp0047.png\n",
      "F:/data/NASA_biophysical/blob/monthly_globe/_tmp0048.png\n",
      "F:/data/NASA_biophysical/blob/monthly_globe/_tmp0049.png\n",
      "F:/data/NASA_biophysical/blob/monthly_globe/_tmp0050.png\n",
      "F:/data/NASA_biophysical/blob/monthly_globe/_tmp0051.png\n",
      "F:/data/NASA_biophysical/blob/monthly_globe/_tmp0052.png\n",
      "F:/data/NASA_biophysical/blob/monthly_globe/_tmp0053.png\n",
      "F:/data/NASA_biophysical/blob/monthly_globe/_tmp0054.png\n",
      "F:/data/NASA_biophysical/blob/monthly_globe/_tmp0055.png\n",
      "F:/data/NASA_biophysical/blob/monthly_globe/_tmp0056.png\n",
      "F:/data/NASA_biophysical/blob/monthly_globe/_tmp0057.png\n",
      "F:/data/NASA_biophysical/blob/monthly_globe/_tmp0058.png\n",
      "F:/data/NASA_biophysical/blob/monthly_globe/_tmp0059.png\n",
      "F:/data/NASA_biophysical/blob/monthly_globe/_tmp0060.png\n",
      "F:/data/NASA_biophysical/blob/monthly_globe/_tmp0061.png\n",
      "F:/data/NASA_biophysical/blob/monthly_globe/_tmp0062.png\n",
      "F:/data/NASA_biophysical/blob/monthly_globe/_tmp0063.png\n",
      "F:/data/NASA_biophysical/blob/monthly_globe/_tmp0064.png\n",
      "F:/data/NASA_biophysical/blob/monthly_globe/_tmp0065.png\n",
      "F:/data/NASA_biophysical/blob/monthly_globe/_tmp0066.png\n",
      "F:/data/NASA_biophysical/blob/monthly_globe/_tmp0067.png\n",
      "F:/data/NASA_biophysical/blob/monthly_globe/_tmp0068.png\n",
      "F:/data/NASA_biophysical/blob/monthly_globe/_tmp0069.png\n",
      "F:/data/NASA_biophysical/blob/monthly_globe/_tmp0070.png\n",
      "F:/data/NASA_biophysical/blob/monthly_globe/_tmp0071.png\n",
      "F:/data/NASA_biophysical/blob/monthly_globe/_tmp0072.png\n",
      "F:/data/NASA_biophysical/blob/monthly_globe/_tmp0073.png\n",
      "F:/data/NASA_biophysical/blob/monthly_globe/_tmp0074.png\n",
      "F:/data/NASA_biophysical/blob/monthly_globe/_tmp0075.png\n",
      "F:/data/NASA_biophysical/blob/monthly_globe/_tmp0076.png\n",
      "F:/data/NASA_biophysical/blob/monthly_globe/_tmp0077.png\n",
      "F:/data/NASA_biophysical/blob/monthly_globe/_tmp0078.png\n",
      "F:/data/NASA_biophysical/blob/monthly_globe/_tmp0079.png\n",
      "F:/data/NASA_biophysical/blob/monthly_globe/_tmp0080.png\n",
      "F:/data/NASA_biophysical/blob/monthly_globe/_tmp0081.png\n",
      "F:/data/NASA_biophysical/blob/monthly_globe/_tmp0082.png\n",
      "F:/data/NASA_biophysical/blob/monthly_globe/_tmp0083.png\n",
      "F:/data/NASA_biophysical/blob/monthly_globe/_tmp0084.png\n",
      "F:/data/NASA_biophysical/blob/monthly_globe/_tmp0085.png\n",
      "F:/data/NASA_biophysical/blob/monthly_globe/_tmp0086.png\n",
      "F:/data/NASA_biophysical/blob/monthly_globe/_tmp0087.png\n",
      "F:/data/NASA_biophysical/blob/monthly_globe/_tmp0088.png\n",
      "F:/data/NASA_biophysical/blob/monthly_globe/_tmp0089.png\n",
      "F:/data/NASA_biophysical/blob/monthly_globe/_tmp0090.png\n",
      "F:/data/NASA_biophysical/blob/monthly_globe/_tmp0091.png\n",
      "F:/data/NASA_biophysical/blob/monthly_globe/_tmp0092.png\n",
      "F:/data/NASA_biophysical/blob/monthly_globe/_tmp0093.png\n",
      "F:/data/NASA_biophysical/blob/monthly_globe/_tmp0094.png\n",
      "F:/data/NASA_biophysical/blob/monthly_globe/_tmp0095.png\n",
      "F:/data/NASA_biophysical/blob/monthly_globe/_tmp0096.png\n",
      "F:/data/NASA_biophysical/blob/monthly_globe/_tmp0097.png\n",
      "F:/data/NASA_biophysical/blob/monthly_globe/_tmp0098.png\n",
      "F:/data/NASA_biophysical/blob/monthly_globe/_tmp0099.png\n"
     ]
    },
    {
     "data": {
      "text/plain": [
       "<Figure size 576x576 with 0 Axes>"
      ]
     },
     "metadata": {},
     "output_type": "display_data"
    },
    {
     "data": {
      "text/plain": [
       "<Figure size 576x576 with 0 Axes>"
      ]
     },
     "metadata": {},
     "output_type": "display_data"
    },
    {
     "data": {
      "text/plain": [
       "<Figure size 576x576 with 0 Axes>"
      ]
     },
     "metadata": {},
     "output_type": "display_data"
    },
    {
     "data": {
      "text/plain": [
       "<Figure size 576x576 with 0 Axes>"
      ]
     },
     "metadata": {},
     "output_type": "display_data"
    },
    {
     "data": {
      "text/plain": [
       "<Figure size 576x576 with 0 Axes>"
      ]
     },
     "metadata": {},
     "output_type": "display_data"
    },
    {
     "data": {
      "text/plain": [
       "<Figure size 576x576 with 0 Axes>"
      ]
     },
     "metadata": {},
     "output_type": "display_data"
    },
    {
     "data": {
      "text/plain": [
       "<Figure size 576x576 with 0 Axes>"
      ]
     },
     "metadata": {},
     "output_type": "display_data"
    },
    {
     "data": {
      "text/plain": [
       "<Figure size 576x576 with 0 Axes>"
      ]
     },
     "metadata": {},
     "output_type": "display_data"
    },
    {
     "data": {
      "text/plain": [
       "<Figure size 576x576 with 0 Axes>"
      ]
     },
     "metadata": {},
     "output_type": "display_data"
    },
    {
     "data": {
      "text/plain": [
       "<Figure size 576x576 with 0 Axes>"
      ]
     },
     "metadata": {},
     "output_type": "display_data"
    },
    {
     "data": {
      "text/plain": [
       "<Figure size 576x576 with 0 Axes>"
      ]
     },
     "metadata": {},
     "output_type": "display_data"
    },
    {
     "data": {
      "text/plain": [
       "<Figure size 576x576 with 0 Axes>"
      ]
     },
     "metadata": {},
     "output_type": "display_data"
    },
    {
     "data": {
      "text/plain": [
       "<Figure size 576x576 with 0 Axes>"
      ]
     },
     "metadata": {},
     "output_type": "display_data"
    },
    {
     "data": {
      "text/plain": [
       "<Figure size 576x576 with 0 Axes>"
      ]
     },
     "metadata": {},
     "output_type": "display_data"
    },
    {
     "data": {
      "text/plain": [
       "<Figure size 576x576 with 0 Axes>"
      ]
     },
     "metadata": {},
     "output_type": "display_data"
    },
    {
     "data": {
      "text/plain": [
       "<Figure size 576x576 with 0 Axes>"
      ]
     },
     "metadata": {},
     "output_type": "display_data"
    },
    {
     "data": {
      "text/plain": [
       "<Figure size 576x576 with 0 Axes>"
      ]
     },
     "metadata": {},
     "output_type": "display_data"
    },
    {
     "data": {
      "text/plain": [
       "<Figure size 576x576 with 0 Axes>"
      ]
     },
     "metadata": {},
     "output_type": "display_data"
    },
    {
     "data": {
      "text/plain": [
       "<Figure size 576x576 with 0 Axes>"
      ]
     },
     "metadata": {},
     "output_type": "display_data"
    },
    {
     "data": {
      "text/plain": [
       "<Figure size 576x576 with 0 Axes>"
      ]
     },
     "metadata": {},
     "output_type": "display_data"
    },
    {
     "data": {
      "text/plain": [
       "<Figure size 576x576 with 0 Axes>"
      ]
     },
     "metadata": {},
     "output_type": "display_data"
    },
    {
     "data": {
      "text/plain": [
       "<Figure size 576x576 with 0 Axes>"
      ]
     },
     "metadata": {},
     "output_type": "display_data"
    },
    {
     "data": {
      "text/plain": [
       "<Figure size 576x576 with 0 Axes>"
      ]
     },
     "metadata": {},
     "output_type": "display_data"
    },
    {
     "data": {
      "text/plain": [
       "<Figure size 576x576 with 0 Axes>"
      ]
     },
     "metadata": {},
     "output_type": "display_data"
    },
    {
     "data": {
      "text/plain": [
       "<Figure size 576x576 with 0 Axes>"
      ]
     },
     "metadata": {},
     "output_type": "display_data"
    },
    {
     "data": {
      "text/plain": [
       "<Figure size 576x576 with 0 Axes>"
      ]
     },
     "metadata": {},
     "output_type": "display_data"
    },
    {
     "data": {
      "text/plain": [
       "<Figure size 576x576 with 0 Axes>"
      ]
     },
     "metadata": {},
     "output_type": "display_data"
    },
    {
     "data": {
      "text/plain": [
       "<Figure size 576x576 with 0 Axes>"
      ]
     },
     "metadata": {},
     "output_type": "display_data"
    },
    {
     "data": {
      "text/plain": [
       "<Figure size 576x576 with 0 Axes>"
      ]
     },
     "metadata": {},
     "output_type": "display_data"
    },
    {
     "data": {
      "text/plain": [
       "<Figure size 576x576 with 0 Axes>"
      ]
     },
     "metadata": {},
     "output_type": "display_data"
    },
    {
     "data": {
      "text/plain": [
       "<Figure size 576x576 with 0 Axes>"
      ]
     },
     "metadata": {},
     "output_type": "display_data"
    },
    {
     "data": {
      "text/plain": [
       "<Figure size 576x576 with 0 Axes>"
      ]
     },
     "metadata": {},
     "output_type": "display_data"
    },
    {
     "data": {
      "text/plain": [
       "<Figure size 576x576 with 0 Axes>"
      ]
     },
     "metadata": {},
     "output_type": "display_data"
    },
    {
     "data": {
      "text/plain": [
       "<Figure size 576x576 with 0 Axes>"
      ]
     },
     "metadata": {},
     "output_type": "display_data"
    },
    {
     "data": {
      "text/plain": [
       "<Figure size 576x576 with 0 Axes>"
      ]
     },
     "metadata": {},
     "output_type": "display_data"
    },
    {
     "data": {
      "text/plain": [
       "<Figure size 576x576 with 0 Axes>"
      ]
     },
     "metadata": {},
     "output_type": "display_data"
    },
    {
     "data": {
      "text/plain": [
       "<Figure size 576x576 with 0 Axes>"
      ]
     },
     "metadata": {},
     "output_type": "display_data"
    },
    {
     "data": {
      "text/plain": [
       "<Figure size 576x576 with 0 Axes>"
      ]
     },
     "metadata": {},
     "output_type": "display_data"
    },
    {
     "data": {
      "text/plain": [
       "<Figure size 576x576 with 0 Axes>"
      ]
     },
     "metadata": {},
     "output_type": "display_data"
    },
    {
     "data": {
      "text/plain": [
       "<Figure size 576x576 with 0 Axes>"
      ]
     },
     "metadata": {},
     "output_type": "display_data"
    },
    {
     "data": {
      "text/plain": [
       "<Figure size 576x576 with 0 Axes>"
      ]
     },
     "metadata": {},
     "output_type": "display_data"
    },
    {
     "data": {
      "text/plain": [
       "<Figure size 576x576 with 0 Axes>"
      ]
     },
     "metadata": {},
     "output_type": "display_data"
    },
    {
     "data": {
      "text/plain": [
       "<Figure size 576x576 with 0 Axes>"
      ]
     },
     "metadata": {},
     "output_type": "display_data"
    },
    {
     "data": {
      "text/plain": [
       "<Figure size 576x576 with 0 Axes>"
      ]
     },
     "metadata": {},
     "output_type": "display_data"
    },
    {
     "data": {
      "text/plain": [
       "<Figure size 576x576 with 0 Axes>"
      ]
     },
     "metadata": {},
     "output_type": "display_data"
    },
    {
     "data": {
      "text/plain": [
       "<Figure size 576x576 with 0 Axes>"
      ]
     },
     "metadata": {},
     "output_type": "display_data"
    },
    {
     "data": {
      "text/plain": [
       "<Figure size 576x576 with 0 Axes>"
      ]
     },
     "metadata": {},
     "output_type": "display_data"
    },
    {
     "data": {
      "text/plain": [
       "<Figure size 576x576 with 0 Axes>"
      ]
     },
     "metadata": {},
     "output_type": "display_data"
    },
    {
     "data": {
      "text/plain": [
       "<Figure size 576x576 with 0 Axes>"
      ]
     },
     "metadata": {},
     "output_type": "display_data"
    },
    {
     "data": {
      "text/plain": [
       "<Figure size 576x576 with 0 Axes>"
      ]
     },
     "metadata": {},
     "output_type": "display_data"
    },
    {
     "data": {
      "text/plain": [
       "<Figure size 576x576 with 0 Axes>"
      ]
     },
     "metadata": {},
     "output_type": "display_data"
    },
    {
     "data": {
      "text/plain": [
       "<Figure size 576x576 with 0 Axes>"
      ]
     },
     "metadata": {},
     "output_type": "display_data"
    },
    {
     "data": {
      "text/plain": [
       "<Figure size 576x576 with 0 Axes>"
      ]
     },
     "metadata": {},
     "output_type": "display_data"
    },
    {
     "data": {
      "text/plain": [
       "<Figure size 576x576 with 0 Axes>"
      ]
     },
     "metadata": {},
     "output_type": "display_data"
    },
    {
     "data": {
      "text/plain": [
       "<Figure size 576x576 with 0 Axes>"
      ]
     },
     "metadata": {},
     "output_type": "display_data"
    },
    {
     "data": {
      "text/plain": [
       "<Figure size 576x576 with 0 Axes>"
      ]
     },
     "metadata": {},
     "output_type": "display_data"
    },
    {
     "data": {
      "text/plain": [
       "<Figure size 576x576 with 0 Axes>"
      ]
     },
     "metadata": {},
     "output_type": "display_data"
    },
    {
     "data": {
      "text/plain": [
       "<Figure size 576x576 with 0 Axes>"
      ]
     },
     "metadata": {},
     "output_type": "display_data"
    },
    {
     "data": {
      "text/plain": [
       "<Figure size 576x576 with 0 Axes>"
      ]
     },
     "metadata": {},
     "output_type": "display_data"
    },
    {
     "data": {
      "text/plain": [
       "<Figure size 576x576 with 0 Axes>"
      ]
     },
     "metadata": {},
     "output_type": "display_data"
    },
    {
     "data": {
      "text/plain": [
       "<Figure size 576x576 with 0 Axes>"
      ]
     },
     "metadata": {},
     "output_type": "display_data"
    },
    {
     "data": {
      "text/plain": [
       "<Figure size 576x576 with 0 Axes>"
      ]
     },
     "metadata": {},
     "output_type": "display_data"
    },
    {
     "data": {
      "text/plain": [
       "<Figure size 576x576 with 0 Axes>"
      ]
     },
     "metadata": {},
     "output_type": "display_data"
    },
    {
     "data": {
      "text/plain": [
       "<Figure size 576x576 with 0 Axes>"
      ]
     },
     "metadata": {},
     "output_type": "display_data"
    },
    {
     "data": {
      "text/plain": [
       "<Figure size 576x576 with 0 Axes>"
      ]
     },
     "metadata": {},
     "output_type": "display_data"
    },
    {
     "data": {
      "text/plain": [
       "<Figure size 576x576 with 0 Axes>"
      ]
     },
     "metadata": {},
     "output_type": "display_data"
    },
    {
     "data": {
      "text/plain": [
       "<Figure size 576x576 with 0 Axes>"
      ]
     },
     "metadata": {},
     "output_type": "display_data"
    },
    {
     "data": {
      "text/plain": [
       "<Figure size 576x576 with 0 Axes>"
      ]
     },
     "metadata": {},
     "output_type": "display_data"
    },
    {
     "data": {
      "text/plain": [
       "<Figure size 576x576 with 0 Axes>"
      ]
     },
     "metadata": {},
     "output_type": "display_data"
    },
    {
     "data": {
      "text/plain": [
       "<Figure size 576x576 with 0 Axes>"
      ]
     },
     "metadata": {},
     "output_type": "display_data"
    },
    {
     "data": {
      "text/plain": [
       "<Figure size 576x576 with 0 Axes>"
      ]
     },
     "metadata": {},
     "output_type": "display_data"
    },
    {
     "data": {
      "text/plain": [
       "<Figure size 576x576 with 0 Axes>"
      ]
     },
     "metadata": {},
     "output_type": "display_data"
    },
    {
     "data": {
      "text/plain": [
       "<Figure size 576x576 with 0 Axes>"
      ]
     },
     "metadata": {},
     "output_type": "display_data"
    },
    {
     "data": {
      "text/plain": [
       "<Figure size 576x576 with 0 Axes>"
      ]
     },
     "metadata": {},
     "output_type": "display_data"
    },
    {
     "data": {
      "text/plain": [
       "<Figure size 576x576 with 0 Axes>"
      ]
     },
     "metadata": {},
     "output_type": "display_data"
    },
    {
     "data": {
      "text/plain": [
       "<Figure size 576x576 with 0 Axes>"
      ]
     },
     "metadata": {},
     "output_type": "display_data"
    },
    {
     "data": {
      "text/plain": [
       "<Figure size 576x576 with 0 Axes>"
      ]
     },
     "metadata": {},
     "output_type": "display_data"
    },
    {
     "data": {
      "text/plain": [
       "<Figure size 576x576 with 0 Axes>"
      ]
     },
     "metadata": {},
     "output_type": "display_data"
    },
    {
     "data": {
      "text/plain": [
       "<Figure size 576x576 with 0 Axes>"
      ]
     },
     "metadata": {},
     "output_type": "display_data"
    },
    {
     "data": {
      "text/plain": [
       "<Figure size 576x576 with 0 Axes>"
      ]
     },
     "metadata": {},
     "output_type": "display_data"
    },
    {
     "data": {
      "text/plain": [
       "<Figure size 576x576 with 0 Axes>"
      ]
     },
     "metadata": {},
     "output_type": "display_data"
    },
    {
     "data": {
      "text/plain": [
       "<Figure size 576x576 with 0 Axes>"
      ]
     },
     "metadata": {},
     "output_type": "display_data"
    },
    {
     "data": {
      "text/plain": [
       "<Figure size 576x576 with 0 Axes>"
      ]
     },
     "metadata": {},
     "output_type": "display_data"
    },
    {
     "data": {
      "text/plain": [
       "<Figure size 576x576 with 0 Axes>"
      ]
     },
     "metadata": {},
     "output_type": "display_data"
    },
    {
     "data": {
      "text/plain": [
       "<Figure size 576x576 with 0 Axes>"
      ]
     },
     "metadata": {},
     "output_type": "display_data"
    },
    {
     "data": {
      "text/plain": [
       "<Figure size 576x576 with 0 Axes>"
      ]
     },
     "metadata": {},
     "output_type": "display_data"
    },
    {
     "data": {
      "text/plain": [
       "<Figure size 576x576 with 0 Axes>"
      ]
     },
     "metadata": {},
     "output_type": "display_data"
    },
    {
     "data": {
      "text/plain": [
       "<Figure size 576x576 with 0 Axes>"
      ]
     },
     "metadata": {},
     "output_type": "display_data"
    },
    {
     "data": {
      "text/plain": [
       "<Figure size 576x576 with 0 Axes>"
      ]
     },
     "metadata": {},
     "output_type": "display_data"
    },
    {
     "data": {
      "text/plain": [
       "<Figure size 576x576 with 0 Axes>"
      ]
     },
     "metadata": {},
     "output_type": "display_data"
    },
    {
     "data": {
      "text/plain": [
       "<Figure size 576x576 with 0 Axes>"
      ]
     },
     "metadata": {},
     "output_type": "display_data"
    },
    {
     "data": {
      "text/plain": [
       "<Figure size 576x576 with 0 Axes>"
      ]
     },
     "metadata": {},
     "output_type": "display_data"
    },
    {
     "data": {
      "text/plain": [
       "<Figure size 576x576 with 0 Axes>"
      ]
     },
     "metadata": {},
     "output_type": "display_data"
    },
    {
     "data": {
      "text/plain": [
       "<Figure size 576x576 with 0 Axes>"
      ]
     },
     "metadata": {},
     "output_type": "display_data"
    },
    {
     "data": {
      "text/plain": [
       "<Figure size 576x576 with 0 Axes>"
      ]
     },
     "metadata": {},
     "output_type": "display_data"
    },
    {
     "data": {
      "text/plain": [
       "<Figure size 576x576 with 0 Axes>"
      ]
     },
     "metadata": {},
     "output_type": "display_data"
    },
    {
     "data": {
      "text/plain": [
       "<Figure size 576x576 with 0 Axes>"
      ]
     },
     "metadata": {},
     "output_type": "display_data"
    },
    {
     "data": {
      "text/plain": [
       "<Figure size 576x576 with 0 Axes>"
      ]
     },
     "metadata": {},
     "output_type": "display_data"
    },
    {
     "data": {
      "text/plain": [
       "<Figure size 576x576 with 0 Axes>"
      ]
     },
     "metadata": {},
     "output_type": "display_data"
    },
    {
     "data": {
      "text/plain": [
       "<Figure size 576x576 with 0 Axes>"
      ]
     },
     "metadata": {},
     "output_type": "display_data"
    }
   ],
   "source": [
    "#make global image with orthographic projection\n",
    "from palettable import colorbrewer\n",
    "#ds_sst = get_data()\n",
    "icnt=0\n",
    "for itime in range(-100,0):\n",
    "    ds=ds_sst.isel(time=itime)#.sel(lat=slice(20,90),lon=slice(100,250))\n",
    "    ds.coords['lon']=(ds.coords['lon']+180)%360-180\n",
    "    ds=ds.sortby(ds.lon)\n",
    "    ds2=ds\n",
    "    #mask to get ice to be white and land to be blue marble by setting max value and then \n",
    "    #setting ice areas to higher than max value\n",
    "    ds2=ds.where(ds.anom<=3,other=2.99)\n",
    "    ds2=ds2.where(np.isfinite(ds.anom))\n",
    "    ds2=ds2.where(np.isnan(ds.ice),other=3.5)\n",
    "    fig = plt.figure(figsize=(8,8))\n",
    "    ax = plt.axes(projection = ccrs.Orthographic(-150,30))  # create a set of axes with Mercator projection\n",
    "    #ax = plt.axes(projection = ccrs.PlateCarree())  # create a set of axes with Mercator projection\n",
    "    cmap = colorbrewer.get_map('Spectral', 'diverging', 11, reverse=True).mpl_colormap\n",
    "    im=ax.pcolormesh(ds.lon.values,ds.lat.values,ds2.anom,transform=ccrs.PlateCarree(),cmap=cmap,vmin=-3,vmax=3);\n",
    "    cmap.set_over('w',1)\n",
    "    ax.background_img(name='BM', resolution='high')\n",
    "  #  ax.background_img(name='natural-earth-1', resolution='large')\n",
    "    cax = fig.add_axes([0.91, 0.25, 0.02, 0.5])#,crs=ccrs.NorthPolarStereo)\n",
    "    cbar = fig.colorbar(im,cax=cax, orientation='vertical') #,color='w')\n",
    "    cbar.set_label('$\\Delta$ SST ($^\\circ$C)',color='k',weight='bold')\n",
    "    pltdate=ds.time\n",
    "    text=plt.figtext(.8,.8,np.datetime_as_string(pltdate, unit='D'),size=20) #,transform=ccrs.PlateCarree(),zorder=100)\n",
    "    adir_figs='F:/data/NASA_biophysical/blob/monthly_globe/'\n",
    "    fname=adir_figs+'_tmp'+str(icnt).zfill(4)+'.png'\n",
    "    icnt+=1\n",
    "    print(fname)\n",
    "    plt.savefig(fname) \n",
    "    plt.clf()\n"
   ]
  },
  {
   "cell_type": "code",
   "execution_count": 183,
   "metadata": {},
   "outputs": [
    {
     "data": {
      "text/plain": [
       "<matplotlib.collections.QuadMesh at 0x1c3aeb13a20>"
      ]
     },
     "execution_count": 183,
     "metadata": {},
     "output_type": "execute_result"
    },
    {
     "data": {
      "image/png": "[encoded data removed]",
      "text/plain": [
       "<Figure size 432x288 with 2 Axes>"
      ]
     },
     "metadata": {
      "needs_background": "light"
     },
     "output_type": "display_data"
    }
   ],
   "source": [
    "ds2=ds.where(np.isnan(ds.ice))\n",
    "ds2.anom.plot()"
   ]
  },
  {
   "cell_type": "code",
   "execution_count": null,
   "metadata": {},
   "outputs": [],
   "source": []
  },
  {
   "cell_type": "code",
   "execution_count": null,
   "metadata": {},
   "outputs": [],
   "source": [
    "#adir = 'F:/data/sst/noaa_oisst/www.ncei.noaa.gov/data/sea-surface-temperature-optimum-interpolation/access/avhrr-only/'\n",
    "#filename_sst = adir + '198110/avhrr-only-v2.19811018.nc'  #filename_sst = 'C:/Users/gentemann/Desktop/HadISST_sst.nc' #\"F:/data/sst/hadisst/HadISST_sst.nc\"\n",
    "#ds_sst=xr.open_dataset(filename_sst,drop_variables = {'err','sst','ice'})istart_flag = 0 \n",
    "#make timeseries for 0-40 increments of data\n",
    "dir_in = 'F:/data/sst/noaa_oisst/www.ncei.noaa.gov/data/sea-surface-temperature-optimum-interpolation/access/avhrr-only/'\n",
    "dir_out = 'F:/data/sst/noaa_oisst/www.ncei.noaa.gov/data/sea-surface-temperature-optimum-interpolation/access/avhrr-only_ts/'\n",
    "for proc_lon in range(0,360,10):\n",
    "    istart_flag=0\n",
    "    dataset=[]\n",
    "    dataset2=[]\n",
    "    for root, dirs, files in os.walk(dir_in, topdown=False):\n",
    "        for name in files:\n",
    "            #syr=int(root[-6:-2])\n",
    "            #if syr==proc_year:\n",
    "            if name.startswith(\"avhrr-only-v2\"):\n",
    "                filename_sst = os.path.join(root, name)\n",
    "                    #dsx = xr.open_dataset(filename_sst,drop_variables = {'err','sst','ice'})\n",
    "                dataset2 = xr.open_dataset(filename_sst,drop_variables = {'err','sst','ice'})\n",
    "                dataset3 = dataset2.sel(lon=slice(proc_lon,proc_lon+10))\n",
    "                if istart_flag == 0:\n",
    "                    dataset = dataset3\n",
    "                    istart_flag = 1\n",
    "                    continue\n",
    "                else:\n",
    "                    dataset = xr.concat([dataset, dataset3],'time')\n",
    "                    print(dataset3.time[0].data)\n",
    "    filename_out_nc = dir_out + 'annual/' + str(proc_lon) + 'all_data.nc'\n",
    "    dataset.to_netcdf(filename_out_nc)\n",
    "#            istart=istart+1\n",
    "#            if istart>20:\n",
    "#                print(istart)\n",
    "#                iend=1\n",
    "#                break\n",
    "#        if iend==1:\n",
    "#            break\n",
    "#    if iend==1:\n",
    "#        break\n"
   ]
  },
  {
   "cell_type": "code",
   "execution_count": null,
   "metadata": {},
   "outputs": [],
   "source": [
    "dir_in = 'F:/data/sst/noaa_oisst/www.ncei.noaa.gov/data/sea-surface-temperature-optimum-interpolation/access/avhrr-only/'\n",
    "filename_sst = dir_in+'198109/avhrr-only-v2.19810901.nc'\n",
    "dataset2 = xr.open_dataset(filename_sst,drop_variables = {'err','sst','ice'})\n",
    "dataset2"
   ]
  },
  {
   "cell_type": "code",
   "execution_count": null,
   "metadata": {},
   "outputs": [],
   "source": [
    "proc_lon=0\n",
    "dataset3 = dataset2.sel(lon=slice(proc_lon,proc_lon+10))\n",
    "proc_lon=10\n",
    "dataset4 = dataset2.sel(lon=slice(proc_lon,proc_lon+10))"
   ]
  },
  {
   "cell_type": "code",
   "execution_count": null,
   "metadata": {},
   "outputs": [],
   "source": [
    "print(dataset3.lon[0].data,dataset3.lon[-1].data)\n",
    "print(dataset4.lon[0].data,dataset4.lon[-1].data)"
   ]
  },
  {
   "cell_type": "code",
   "execution_count": null,
   "metadata": {},
   "outputs": [],
   "source": [
    "istart_flag=0\n",
    "dir_base = 'F:/data/sst/noaa_oisst/www.ncei.noaa.gov/data/sea-surface-temperature-optimum-interpolation/access/avhrr-only/' \n",
    "dir_in = dir_base + 'annual/'\n",
    "dir_in2 = dir_base + 'annual2/'\n",
    "for root, dirs, files in os.walk(dir_in, topdown=False):\n",
    "    for name in files:\n",
    "        filename_sst = os.path.join(root, name)\n",
    "        print(name)\n",
    "        dataset2 = xr.open_dataset(filename_sst)\n",
    "        if istart_flag == 0:\n",
    "            dataset = dataset2\n",
    "            istart_flag = 1\n",
    "            print(dataset2.time[0].data)\n",
    "            continue\n",
    "        else:\n",
    "            dataset = xr.concat([dataset, dataset2],'time')\n",
    "            print(dataset2.time[0].data)\n",
    "dataset.to_netcdf(dir_in2 + 'all_data.nc')\n",
    "\n"
   ]
  },
  {
   "cell_type": "code",
   "execution_count": null,
   "metadata": {},
   "outputs": [],
   "source": [
    "fname = 'F:/data/sst/noaa_oisst/www.ncei.noaa.gov/data/sea-surface-temperature-optimum-interpolation/access/avhrr-only/annual/1987all_data.nc'\n",
    "ds=xr.open_dataset(fname)"
   ]
  },
  {
   "cell_type": "code",
   "execution_count": null,
   "metadata": {},
   "outputs": [],
   "source": [
    "ds"
   ]
  },
  {
   "cell_type": "code",
   "execution_count": null,
   "metadata": {},
   "outputs": [],
   "source": []
  },
  {
   "cell_type": "code",
   "execution_count": null,
   "metadata": {},
   "outputs": [],
   "source": [
    "istart_flag = 0 \n",
    "adir = 'F:/data/sst/noaa_oisst/www.ncei.noaa.gov/data/sea-surface-temperature-optimum-interpolation/access/avhrr-only/'\n",
    "for root, dirs, files in os.walk(dir_in, topdown=False):\n",
    "    for name in files:\n",
    "        if name.startswith(\"avhrr\"):\n",
    "            filename_sst=os.path.join(root, name)\n",
    "            print(root[-6:-2])"
   ]
  },
  {
   "cell_type": "code",
   "execution_count": 127,
   "metadata": {},
   "outputs": [
    {
     "name": "stdout",
     "output_type": "stream",
     "text": [
      "F:/data/NASA_biophysical/blob/monthly/_tmp0000.png\n",
      "F:/data/NASA_biophysical/blob/monthly/_tmp0001.png\n",
      "F:/data/NASA_biophysical/blob/monthly/_tmp0002.png\n",
      "F:/data/NASA_biophysical/blob/monthly/_tmp0003.png\n",
      "F:/data/NASA_biophysical/blob/monthly/_tmp0004.png\n",
      "F:/data/NASA_biophysical/blob/monthly/_tmp0005.png\n",
      "F:/data/NASA_biophysical/blob/monthly/_tmp0006.png\n",
      "F:/data/NASA_biophysical/blob/monthly/_tmp0007.png\n",
      "F:/data/NASA_biophysical/blob/monthly/_tmp0008.png\n",
      "F:/data/NASA_biophysical/blob/monthly/_tmp0009.png\n",
      "F:/data/NASA_biophysical/blob/monthly/_tmp0010.png\n",
      "F:/data/NASA_biophysical/blob/monthly/_tmp0011.png\n",
      "F:/data/NASA_biophysical/blob/monthly/_tmp0012.png\n",
      "F:/data/NASA_biophysical/blob/monthly/_tmp0013.png\n",
      "F:/data/NASA_biophysical/blob/monthly/_tmp0014.png\n",
      "F:/data/NASA_biophysical/blob/monthly/_tmp0015.png\n",
      "F:/data/NASA_biophysical/blob/monthly/_tmp0016.png\n",
      "F:/data/NASA_biophysical/blob/monthly/_tmp0017.png\n",
      "F:/data/NASA_biophysical/blob/monthly/_tmp0018.png\n",
      "F:/data/NASA_biophysical/blob/monthly/_tmp0019.png\n"
     ]
    },
    {
     "name": "stderr",
     "output_type": "stream",
     "text": [
      "C:\\Users\\gentemann\\Miniconda3\\envs\\satenv\\lib\\site-packages\\matplotlib\\pyplot.py:514: RuntimeWarning: More than 20 figures have been opened. Figures created through the pyplot interface (`matplotlib.pyplot.figure`) are retained until explicitly closed and may consume too much memory. (To control this warning, see the rcParam `figure.max_open_warning`).\n",
      "  max_open_warning, RuntimeWarning)\n"
     ]
    },
    {
     "name": "stdout",
     "output_type": "stream",
     "text": [
      "F:/data/NASA_biophysical/blob/monthly/_tmp0020.png\n",
      "F:/data/NASA_biophysical/blob/monthly/_tmp0021.png\n",
      "F:/data/NASA_biophysical/blob/monthly/_tmp0022.png\n",
      "F:/data/NASA_biophysical/blob/monthly/_tmp0023.png\n",
      "F:/data/NASA_biophysical/blob/monthly/_tmp0024.png\n",
      "F:/data/NASA_biophysical/blob/monthly/_tmp0025.png\n",
      "F:/data/NASA_biophysical/blob/monthly/_tmp0026.png\n",
      "F:/data/NASA_biophysical/blob/monthly/_tmp0027.png\n",
      "F:/data/NASA_biophysical/blob/monthly/_tmp0028.png\n",
      "F:/data/NASA_biophysical/blob/monthly/_tmp0029.png\n",
      "F:/data/NASA_biophysical/blob/monthly/_tmp0030.png\n",
      "F:/data/NASA_biophysical/blob/monthly/_tmp0031.png\n",
      "F:/data/NASA_biophysical/blob/monthly/_tmp0032.png\n",
      "F:/data/NASA_biophysical/blob/monthly/_tmp0033.png\n",
      "F:/data/NASA_biophysical/blob/monthly/_tmp0034.png\n",
      "F:/data/NASA_biophysical/blob/monthly/_tmp0035.png\n",
      "F:/data/NASA_biophysical/blob/monthly/_tmp0036.png\n",
      "F:/data/NASA_biophysical/blob/monthly/_tmp0037.png\n",
      "F:/data/NASA_biophysical/blob/monthly/_tmp0038.png\n",
      "F:/data/NASA_biophysical/blob/monthly/_tmp0039.png\n",
      "F:/data/NASA_biophysical/blob/monthly/_tmp0040.png\n",
      "F:/data/NASA_biophysical/blob/monthly/_tmp0041.png\n",
      "F:/data/NASA_biophysical/blob/monthly/_tmp0042.png\n",
      "F:/data/NASA_biophysical/blob/monthly/_tmp0043.png\n",
      "F:/data/NASA_biophysical/blob/monthly/_tmp0044.png\n",
      "F:/data/NASA_biophysical/blob/monthly/_tmp0045.png\n",
      "F:/data/NASA_biophysical/blob/monthly/_tmp0046.png\n",
      "F:/data/NASA_biophysical/blob/monthly/_tmp0047.png\n",
      "F:/data/NASA_biophysical/blob/monthly/_tmp0048.png\n",
      "F:/data/NASA_biophysical/blob/monthly/_tmp0049.png\n",
      "F:/data/NASA_biophysical/blob/monthly/_tmp0050.png\n",
      "F:/data/NASA_biophysical/blob/monthly/_tmp0051.png\n",
      "F:/data/NASA_biophysical/blob/monthly/_tmp0052.png\n",
      "F:/data/NASA_biophysical/blob/monthly/_tmp0053.png\n",
      "F:/data/NASA_biophysical/blob/monthly/_tmp0054.png\n",
      "F:/data/NASA_biophysical/blob/monthly/_tmp0055.png\n",
      "F:/data/NASA_biophysical/blob/monthly/_tmp0056.png\n",
      "F:/data/NASA_biophysical/blob/monthly/_tmp0057.png\n",
      "F:/data/NASA_biophysical/blob/monthly/_tmp0058.png\n",
      "F:/data/NASA_biophysical/blob/monthly/_tmp0059.png\n",
      "F:/data/NASA_biophysical/blob/monthly/_tmp0060.png\n",
      "F:/data/NASA_biophysical/blob/monthly/_tmp0061.png\n",
      "F:/data/NASA_biophysical/blob/monthly/_tmp0062.png\n",
      "F:/data/NASA_biophysical/blob/monthly/_tmp0063.png\n",
      "F:/data/NASA_biophysical/blob/monthly/_tmp0064.png\n",
      "F:/data/NASA_biophysical/blob/monthly/_tmp0065.png\n",
      "F:/data/NASA_biophysical/blob/monthly/_tmp0066.png\n",
      "F:/data/NASA_biophysical/blob/monthly/_tmp0067.png\n",
      "F:/data/NASA_biophysical/blob/monthly/_tmp0068.png\n",
      "F:/data/NASA_biophysical/blob/monthly/_tmp0069.png\n",
      "F:/data/NASA_biophysical/blob/monthly/_tmp0070.png\n",
      "F:/data/NASA_biophysical/blob/monthly/_tmp0071.png\n",
      "F:/data/NASA_biophysical/blob/monthly/_tmp0072.png\n",
      "F:/data/NASA_biophysical/blob/monthly/_tmp0073.png\n",
      "F:/data/NASA_biophysical/blob/monthly/_tmp0074.png\n",
      "F:/data/NASA_biophysical/blob/monthly/_tmp0075.png\n",
      "F:/data/NASA_biophysical/blob/monthly/_tmp0076.png\n",
      "F:/data/NASA_biophysical/blob/monthly/_tmp0077.png\n",
      "F:/data/NASA_biophysical/blob/monthly/_tmp0078.png\n",
      "F:/data/NASA_biophysical/blob/monthly/_tmp0079.png\n",
      "F:/data/NASA_biophysical/blob/monthly/_tmp0080.png\n",
      "F:/data/NASA_biophysical/blob/monthly/_tmp0081.png\n",
      "F:/data/NASA_biophysical/blob/monthly/_tmp0082.png\n",
      "F:/data/NASA_biophysical/blob/monthly/_tmp0083.png\n",
      "F:/data/NASA_biophysical/blob/monthly/_tmp0084.png\n",
      "F:/data/NASA_biophysical/blob/monthly/_tmp0085.png\n",
      "F:/data/NASA_biophysical/blob/monthly/_tmp0086.png\n",
      "F:/data/NASA_biophysical/blob/monthly/_tmp0087.png\n",
      "F:/data/NASA_biophysical/blob/monthly/_tmp0088.png\n",
      "F:/data/NASA_biophysical/blob/monthly/_tmp0089.png\n",
      "F:/data/NASA_biophysical/blob/monthly/_tmp0090.png\n",
      "F:/data/NASA_biophysical/blob/monthly/_tmp0091.png\n",
      "F:/data/NASA_biophysical/blob/monthly/_tmp0092.png\n",
      "F:/data/NASA_biophysical/blob/monthly/_tmp0093.png\n",
      "F:/data/NASA_biophysical/blob/monthly/_tmp0094.png\n",
      "F:/data/NASA_biophysical/blob/monthly/_tmp0095.png\n",
      "F:/data/NASA_biophysical/blob/monthly/_tmp0096.png\n",
      "F:/data/NASA_biophysical/blob/monthly/_tmp0097.png\n",
      "F:/data/NASA_biophysical/blob/monthly/_tmp0098.png\n",
      "F:/data/NASA_biophysical/blob/monthly/_tmp0099.png\n",
      "F:/data/NASA_biophysical/blob/monthly/_tmp0100.png\n",
      "F:/data/NASA_biophysical/blob/monthly/_tmp0101.png\n",
      "F:/data/NASA_biophysical/blob/monthly/_tmp0102.png\n",
      "F:/data/NASA_biophysical/blob/monthly/_tmp0103.png\n",
      "F:/data/NASA_biophysical/blob/monthly/_tmp0104.png\n",
      "F:/data/NASA_biophysical/blob/monthly/_tmp0105.png\n"
     ]
    },
    {
     "data": {
      "text/plain": [
       "<Figure size 576x576 with 0 Axes>"
      ]
     },
     "metadata": {},
     "output_type": "display_data"
    },
    {
     "data": {
      "text/plain": [
       "<Figure size 576x576 with 0 Axes>"
      ]
     },
     "metadata": {},
     "output_type": "display_data"
    },
    {
     "data": {
      "text/plain": [
       "<Figure size 576x576 with 0 Axes>"
      ]
     },
     "metadata": {},
     "output_type": "display_data"
    },
    {
     "data": {
      "text/plain": [
       "<Figure size 576x576 with 0 Axes>"
      ]
     },
     "metadata": {},
     "output_type": "display_data"
    },
    {
     "data": {
      "text/plain": [
       "<Figure size 576x576 with 0 Axes>"
      ]
     },
     "metadata": {},
     "output_type": "display_data"
    },
    {
     "data": {
      "text/plain": [
       "<Figure size 576x576 with 0 Axes>"
      ]
     },
     "metadata": {},
     "output_type": "display_data"
    },
    {
     "data": {
      "text/plain": [
       "<Figure size 576x576 with 0 Axes>"
      ]
     },
     "metadata": {},
     "output_type": "display_data"
    },
    {
     "data": {
      "text/plain": [
       "<Figure size 576x576 with 0 Axes>"
      ]
     },
     "metadata": {},
     "output_type": "display_data"
    },
    {
     "data": {
      "text/plain": [
       "<Figure size 576x576 with 0 Axes>"
      ]
     },
     "metadata": {},
     "output_type": "display_data"
    },
    {
     "data": {
      "text/plain": [
       "<Figure size 576x576 with 0 Axes>"
      ]
     },
     "metadata": {},
     "output_type": "display_data"
    },
    {
     "data": {
      "text/plain": [
       "<Figure size 576x576 with 0 Axes>"
      ]
     },
     "metadata": {},
     "output_type": "display_data"
    },
    {
     "data": {
      "text/plain": [
       "<Figure size 576x576 with 0 Axes>"
      ]
     },
     "metadata": {},
     "output_type": "display_data"
    },
    {
     "data": {
      "text/plain": [
       "<Figure size 576x576 with 0 Axes>"
      ]
     },
     "metadata": {},
     "output_type": "display_data"
    },
    {
     "data": {
      "text/plain": [
       "<Figure size 576x576 with 0 Axes>"
      ]
     },
     "metadata": {},
     "output_type": "display_data"
    },
    {
     "data": {
      "text/plain": [
       "<Figure size 576x576 with 0 Axes>"
      ]
     },
     "metadata": {},
     "output_type": "display_data"
    },
    {
     "data": {
      "text/plain": [
       "<Figure size 576x576 with 0 Axes>"
      ]
     },
     "metadata": {},
     "output_type": "display_data"
    },
    {
     "data": {
      "text/plain": [
       "<Figure size 576x576 with 0 Axes>"
      ]
     },
     "metadata": {},
     "output_type": "display_data"
    },
    {
     "data": {
      "text/plain": [
       "<Figure size 576x576 with 0 Axes>"
      ]
     },
     "metadata": {},
     "output_type": "display_data"
    },
    {
     "data": {
      "text/plain": [
       "<Figure size 576x576 with 0 Axes>"
      ]
     },
     "metadata": {},
     "output_type": "display_data"
    },
    {
     "data": {
      "text/plain": [
       "<Figure size 576x576 with 0 Axes>"
      ]
     },
     "metadata": {},
     "output_type": "display_data"
    },
    {
     "data": {
      "text/plain": [
       "<Figure size 576x576 with 0 Axes>"
      ]
     },
     "metadata": {},
     "output_type": "display_data"
    },
    {
     "data": {
      "text/plain": [
       "<Figure size 576x576 with 0 Axes>"
      ]
     },
     "metadata": {},
     "output_type": "display_data"
    },
    {
     "data": {
      "text/plain": [
       "<Figure size 576x576 with 0 Axes>"
      ]
     },
     "metadata": {},
     "output_type": "display_data"
    },
    {
     "data": {
      "text/plain": [
       "<Figure size 576x576 with 0 Axes>"
      ]
     },
     "metadata": {},
     "output_type": "display_data"
    },
    {
     "data": {
      "text/plain": [
       "<Figure size 576x576 with 0 Axes>"
      ]
     },
     "metadata": {},
     "output_type": "display_data"
    },
    {
     "data": {
      "text/plain": [
       "<Figure size 576x576 with 0 Axes>"
      ]
     },
     "metadata": {},
     "output_type": "display_data"
    },
    {
     "data": {
      "text/plain": [
       "<Figure size 576x576 with 0 Axes>"
      ]
     },
     "metadata": {},
     "output_type": "display_data"
    },
    {
     "data": {
      "text/plain": [
       "<Figure size 576x576 with 0 Axes>"
      ]
     },
     "metadata": {},
     "output_type": "display_data"
    },
    {
     "data": {
      "text/plain": [
       "<Figure size 576x576 with 0 Axes>"
      ]
     },
     "metadata": {},
     "output_type": "display_data"
    },
    {
     "data": {
      "text/plain": [
       "<Figure size 576x576 with 0 Axes>"
      ]
     },
     "metadata": {},
     "output_type": "display_data"
    },
    {
     "data": {
      "text/plain": [
       "<Figure size 576x576 with 0 Axes>"
      ]
     },
     "metadata": {},
     "output_type": "display_data"
    },
    {
     "data": {
      "text/plain": [
       "<Figure size 576x576 with 0 Axes>"
      ]
     },
     "metadata": {},
     "output_type": "display_data"
    },
    {
     "data": {
      "text/plain": [
       "<Figure size 576x576 with 0 Axes>"
      ]
     },
     "metadata": {},
     "output_type": "display_data"
    },
    {
     "data": {
      "text/plain": [
       "<Figure size 576x576 with 0 Axes>"
      ]
     },
     "metadata": {},
     "output_type": "display_data"
    },
    {
     "data": {
      "text/plain": [
       "<Figure size 576x576 with 0 Axes>"
      ]
     },
     "metadata": {},
     "output_type": "display_data"
    },
    {
     "data": {
      "text/plain": [
       "<Figure size 576x576 with 0 Axes>"
      ]
     },
     "metadata": {},
     "output_type": "display_data"
    },
    {
     "data": {
      "text/plain": [
       "<Figure size 576x576 with 0 Axes>"
      ]
     },
     "metadata": {},
     "output_type": "display_data"
    },
    {
     "data": {
      "text/plain": [
       "<Figure size 576x576 with 0 Axes>"
      ]
     },
     "metadata": {},
     "output_type": "display_data"
    },
    {
     "data": {
      "text/plain": [
       "<Figure size 576x576 with 0 Axes>"
      ]
     },
     "metadata": {},
     "output_type": "display_data"
    },
    {
     "data": {
      "text/plain": [
       "<Figure size 576x576 with 0 Axes>"
      ]
     },
     "metadata": {},
     "output_type": "display_data"
    },
    {
     "data": {
      "text/plain": [
       "<Figure size 576x576 with 0 Axes>"
      ]
     },
     "metadata": {},
     "output_type": "display_data"
    },
    {
     "data": {
      "text/plain": [
       "<Figure size 576x576 with 0 Axes>"
      ]
     },
     "metadata": {},
     "output_type": "display_data"
    },
    {
     "data": {
      "text/plain": [
       "<Figure size 576x576 with 0 Axes>"
      ]
     },
     "metadata": {},
     "output_type": "display_data"
    },
    {
     "data": {
      "text/plain": [
       "<Figure size 576x576 with 0 Axes>"
      ]
     },
     "metadata": {},
     "output_type": "display_data"
    },
    {
     "data": {
      "text/plain": [
       "<Figure size 576x576 with 0 Axes>"
      ]
     },
     "metadata": {},
     "output_type": "display_data"
    },
    {
     "data": {
      "text/plain": [
       "<Figure size 576x576 with 0 Axes>"
      ]
     },
     "metadata": {},
     "output_type": "display_data"
    },
    {
     "data": {
      "text/plain": [
       "<Figure size 576x576 with 0 Axes>"
      ]
     },
     "metadata": {},
     "output_type": "display_data"
    },
    {
     "data": {
      "text/plain": [
       "<Figure size 576x576 with 0 Axes>"
      ]
     },
     "metadata": {},
     "output_type": "display_data"
    },
    {
     "data": {
      "text/plain": [
       "<Figure size 576x576 with 0 Axes>"
      ]
     },
     "metadata": {},
     "output_type": "display_data"
    },
    {
     "data": {
      "text/plain": [
       "<Figure size 576x576 with 0 Axes>"
      ]
     },
     "metadata": {},
     "output_type": "display_data"
    },
    {
     "data": {
      "text/plain": [
       "<Figure size 576x576 with 0 Axes>"
      ]
     },
     "metadata": {},
     "output_type": "display_data"
    },
    {
     "data": {
      "text/plain": [
       "<Figure size 576x576 with 0 Axes>"
      ]
     },
     "metadata": {},
     "output_type": "display_data"
    },
    {
     "data": {
      "text/plain": [
       "<Figure size 576x576 with 0 Axes>"
      ]
     },
     "metadata": {},
     "output_type": "display_data"
    },
    {
     "data": {
      "text/plain": [
       "<Figure size 576x576 with 0 Axes>"
      ]
     },
     "metadata": {},
     "output_type": "display_data"
    },
    {
     "data": {
      "text/plain": [
       "<Figure size 576x576 with 0 Axes>"
      ]
     },
     "metadata": {},
     "output_type": "display_data"
    },
    {
     "data": {
      "text/plain": [
       "<Figure size 576x576 with 0 Axes>"
      ]
     },
     "metadata": {},
     "output_type": "display_data"
    },
    {
     "data": {
      "text/plain": [
       "<Figure size 576x576 with 0 Axes>"
      ]
     },
     "metadata": {},
     "output_type": "display_data"
    },
    {
     "data": {
      "text/plain": [
       "<Figure size 576x576 with 0 Axes>"
      ]
     },
     "metadata": {},
     "output_type": "display_data"
    },
    {
     "data": {
      "text/plain": [
       "<Figure size 576x576 with 0 Axes>"
      ]
     },
     "metadata": {},
     "output_type": "display_data"
    },
    {
     "data": {
      "text/plain": [
       "<Figure size 576x576 with 0 Axes>"
      ]
     },
     "metadata": {},
     "output_type": "display_data"
    },
    {
     "data": {
      "text/plain": [
       "<Figure size 576x576 with 0 Axes>"
      ]
     },
     "metadata": {},
     "output_type": "display_data"
    },
    {
     "data": {
      "text/plain": [
       "<Figure size 576x576 with 0 Axes>"
      ]
     },
     "metadata": {},
     "output_type": "display_data"
    },
    {
     "data": {
      "text/plain": [
       "<Figure size 576x576 with 0 Axes>"
      ]
     },
     "metadata": {},
     "output_type": "display_data"
    },
    {
     "data": {
      "text/plain": [
       "<Figure size 576x576 with 0 Axes>"
      ]
     },
     "metadata": {},
     "output_type": "display_data"
    },
    {
     "data": {
      "text/plain": [
       "<Figure size 576x576 with 0 Axes>"
      ]
     },
     "metadata": {},
     "output_type": "display_data"
    },
    {
     "data": {
      "text/plain": [
       "<Figure size 576x576 with 0 Axes>"
      ]
     },
     "metadata": {},
     "output_type": "display_data"
    },
    {
     "data": {
      "text/plain": [
       "<Figure size 576x576 with 0 Axes>"
      ]
     },
     "metadata": {},
     "output_type": "display_data"
    },
    {
     "data": {
      "text/plain": [
       "<Figure size 576x576 with 0 Axes>"
      ]
     },
     "metadata": {},
     "output_type": "display_data"
    },
    {
     "data": {
      "text/plain": [
       "<Figure size 576x576 with 0 Axes>"
      ]
     },
     "metadata": {},
     "output_type": "display_data"
    },
    {
     "data": {
      "text/plain": [
       "<Figure size 576x576 with 0 Axes>"
      ]
     },
     "metadata": {},
     "output_type": "display_data"
    },
    {
     "data": {
      "text/plain": [
       "<Figure size 576x576 with 0 Axes>"
      ]
     },
     "metadata": {},
     "output_type": "display_data"
    },
    {
     "data": {
      "text/plain": [
       "<Figure size 576x576 with 0 Axes>"
      ]
     },
     "metadata": {},
     "output_type": "display_data"
    },
    {
     "data": {
      "text/plain": [
       "<Figure size 576x576 with 0 Axes>"
      ]
     },
     "metadata": {},
     "output_type": "display_data"
    },
    {
     "data": {
      "text/plain": [
       "<Figure size 576x576 with 0 Axes>"
      ]
     },
     "metadata": {},
     "output_type": "display_data"
    },
    {
     "data": {
      "text/plain": [
       "<Figure size 576x576 with 0 Axes>"
      ]
     },
     "metadata": {},
     "output_type": "display_data"
    },
    {
     "data": {
      "text/plain": [
       "<Figure size 576x576 with 0 Axes>"
      ]
     },
     "metadata": {},
     "output_type": "display_data"
    },
    {
     "data": {
      "text/plain": [
       "<Figure size 576x576 with 0 Axes>"
      ]
     },
     "metadata": {},
     "output_type": "display_data"
    },
    {
     "data": {
      "text/plain": [
       "<Figure size 576x576 with 0 Axes>"
      ]
     },
     "metadata": {},
     "output_type": "display_data"
    },
    {
     "data": {
      "text/plain": [
       "<Figure size 576x576 with 0 Axes>"
      ]
     },
     "metadata": {},
     "output_type": "display_data"
    },
    {
     "data": {
      "text/plain": [
       "<Figure size 576x576 with 0 Axes>"
      ]
     },
     "metadata": {},
     "output_type": "display_data"
    },
    {
     "data": {
      "text/plain": [
       "<Figure size 576x576 with 0 Axes>"
      ]
     },
     "metadata": {},
     "output_type": "display_data"
    },
    {
     "data": {
      "text/plain": [
       "<Figure size 576x576 with 0 Axes>"
      ]
     },
     "metadata": {},
     "output_type": "display_data"
    },
    {
     "data": {
      "text/plain": [
       "<Figure size 576x576 with 0 Axes>"
      ]
     },
     "metadata": {},
     "output_type": "display_data"
    },
    {
     "data": {
      "text/plain": [
       "<Figure size 576x576 with 0 Axes>"
      ]
     },
     "metadata": {},
     "output_type": "display_data"
    },
    {
     "data": {
      "text/plain": [
       "<Figure size 576x576 with 0 Axes>"
      ]
     },
     "metadata": {},
     "output_type": "display_data"
    },
    {
     "data": {
      "text/plain": [
       "<Figure size 576x576 with 0 Axes>"
      ]
     },
     "metadata": {},
     "output_type": "display_data"
    },
    {
     "data": {
      "text/plain": [
       "<Figure size 576x576 with 0 Axes>"
      ]
     },
     "metadata": {},
     "output_type": "display_data"
    },
    {
     "data": {
      "text/plain": [
       "<Figure size 576x576 with 0 Axes>"
      ]
     },
     "metadata": {},
     "output_type": "display_data"
    },
    {
     "data": {
      "text/plain": [
       "<Figure size 576x576 with 0 Axes>"
      ]
     },
     "metadata": {},
     "output_type": "display_data"
    },
    {
     "data": {
      "text/plain": [
       "<Figure size 576x576 with 0 Axes>"
      ]
     },
     "metadata": {},
     "output_type": "display_data"
    },
    {
     "data": {
      "text/plain": [
       "<Figure size 576x576 with 0 Axes>"
      ]
     },
     "metadata": {},
     "output_type": "display_data"
    },
    {
     "data": {
      "text/plain": [
       "<Figure size 576x576 with 0 Axes>"
      ]
     },
     "metadata": {},
     "output_type": "display_data"
    },
    {
     "data": {
      "text/plain": [
       "<Figure size 576x576 with 0 Axes>"
      ]
     },
     "metadata": {},
     "output_type": "display_data"
    },
    {
     "data": {
      "text/plain": [
       "<Figure size 576x576 with 0 Axes>"
      ]
     },
     "metadata": {},
     "output_type": "display_data"
    },
    {
     "data": {
      "text/plain": [
       "<Figure size 576x576 with 0 Axes>"
      ]
     },
     "metadata": {},
     "output_type": "display_data"
    },
    {
     "data": {
      "text/plain": [
       "<Figure size 576x576 with 0 Axes>"
      ]
     },
     "metadata": {},
     "output_type": "display_data"
    },
    {
     "data": {
      "text/plain": [
       "<Figure size 576x576 with 0 Axes>"
      ]
     },
     "metadata": {},
     "output_type": "display_data"
    },
    {
     "data": {
      "text/plain": [
       "<Figure size 576x576 with 0 Axes>"
      ]
     },
     "metadata": {},
     "output_type": "display_data"
    },
    {
     "data": {
      "text/plain": [
       "<Figure size 576x576 with 0 Axes>"
      ]
     },
     "metadata": {},
     "output_type": "display_data"
    },
    {
     "data": {
      "text/plain": [
       "<Figure size 576x576 with 0 Axes>"
      ]
     },
     "metadata": {},
     "output_type": "display_data"
    },
    {
     "data": {
      "text/plain": [
       "<Figure size 576x576 with 0 Axes>"
      ]
     },
     "metadata": {},
     "output_type": "display_data"
    },
    {
     "data": {
      "text/plain": [
       "<Figure size 576x576 with 0 Axes>"
      ]
     },
     "metadata": {},
     "output_type": "display_data"
    },
    {
     "data": {
      "text/plain": [
       "<Figure size 576x576 with 0 Axes>"
      ]
     },
     "metadata": {},
     "output_type": "display_data"
    },
    {
     "data": {
      "text/plain": [
       "<Figure size 576x576 with 0 Axes>"
      ]
     },
     "metadata": {},
     "output_type": "display_data"
    },
    {
     "data": {
      "text/plain": [
       "<Figure size 576x576 with 0 Axes>"
      ]
     },
     "metadata": {},
     "output_type": "display_data"
    },
    {
     "data": {
      "text/plain": [
       "<Figure size 576x576 with 0 Axes>"
      ]
     },
     "metadata": {},
     "output_type": "display_data"
    }
   ],
   "source": []
  },
  {
   "cell_type": "code",
   "execution_count": 125,
   "metadata": {},
   "outputs": [
    {
     "data": {
      "text/plain": [
       "<xarray.DataArray 'time' ()>\n",
       "array('2010-12-31T00:00:00.000000000', dtype='datetime64[ns]')\n",
       "Coordinates:\n",
       "    time     datetime64[ns] 2010-12-31\n",
       "    zlev     float32 0.0"
      ]
     },
     "execution_count": 125,
     "metadata": {},
     "output_type": "execute_result"
    }
   ],
   "source": [
    "ds_sst.time[-108]"
   ]
  },
  {
   "cell_type": "code",
   "execution_count": 50,
   "metadata": {},
   "outputs": [
    {
     "ename": "ValueError",
     "evalue": "For window size 12, every chunk should be larger than 6, but the smallest chunk size is 3. Rechunk your array\nwith a larger chunk size or a chunk size that\nmore evenly divides the shape of your array.",
     "output_type": "error",
     "traceback": [
      "\u001b[1;31m---------------------------------------------------------------------------\u001b[0m",
      "\u001b[1;31mValueError\u001b[0m                                Traceback (most recent call last)",
      "\u001b[1;32m<ipython-input-50-3a69b79697a5>\u001b[0m in \u001b[0;36m<module>\u001b[1;34m\u001b[0m\n\u001b[0;32m      1\u001b[0m \u001b[1;31m#calculate frequency timeseries > 90th percentile, remove trends in data\u001b[0m\u001b[1;33m\u001b[0m\u001b[1;33m\u001b[0m\u001b[1;33m\u001b[0m\u001b[0m\n\u001b[0;32m      2\u001b[0m \u001b[0mds2\u001b[0m\u001b[1;33m=\u001b[0m\u001b[0mds_sst\u001b[0m\u001b[1;33m.\u001b[0m\u001b[0mwhere\u001b[0m\u001b[1;33m(\u001b[0m\u001b[0mds_sst\u001b[0m\u001b[1;33m.\u001b[0m\u001b[0msst\u001b[0m\u001b[1;33m>\u001b[0m\u001b[1;33m-\u001b[0m\u001b[1;36m10\u001b[0m\u001b[1;33m)\u001b[0m  \u001b[1;31m#put all sst values < -10 to nan\u001b[0m\u001b[1;33m\u001b[0m\u001b[1;33m\u001b[0m\u001b[0m\n\u001b[1;32m----> 3\u001b[1;33m \u001b[0mannual_mean\u001b[0m \u001b[1;33m=\u001b[0m \u001b[0mds2\u001b[0m\u001b[1;33m.\u001b[0m\u001b[0mrolling\u001b[0m\u001b[1;33m(\u001b[0m\u001b[0mtime\u001b[0m\u001b[1;33m=\u001b[0m\u001b[1;36m12\u001b[0m\u001b[1;33m,\u001b[0m \u001b[0mcenter\u001b[0m\u001b[1;33m=\u001b[0m\u001b[1;32mTrue\u001b[0m\u001b[1;33m)\u001b[0m\u001b[1;33m.\u001b[0m\u001b[0mmean\u001b[0m\u001b[1;33m(\u001b[0m\u001b[1;33m)\u001b[0m\u001b[1;33m\u001b[0m\u001b[1;33m\u001b[0m\u001b[0m\n\u001b[0m\u001b[0;32m      4\u001b[0m \u001b[0mds3\u001b[0m \u001b[1;33m=\u001b[0m \u001b[0mds2\u001b[0m\u001b[1;33m-\u001b[0m\u001b[0mannual_mean\u001b[0m  \u001b[1;31m#take out annual mean to remove trends\u001b[0m\u001b[1;33m\u001b[0m\u001b[1;33m\u001b[0m\u001b[0m\n\u001b[0;32m      5\u001b[0m \u001b[0mclimatology_mean\u001b[0m \u001b[1;33m=\u001b[0m \u001b[0mds3\u001b[0m\u001b[1;33m.\u001b[0m\u001b[0mgroupby\u001b[0m\u001b[1;33m(\u001b[0m\u001b[1;34m'time.month'\u001b[0m\u001b[1;33m)\u001b[0m\u001b[1;33m.\u001b[0m\u001b[0mmean\u001b[0m\u001b[1;33m(\u001b[0m\u001b[1;34m'time'\u001b[0m\u001b[1;33m)\u001b[0m  \u001b[1;31m#calculate monthly climatology to take out seasonal cycle\u001b[0m\u001b[1;33m\u001b[0m\u001b[1;33m\u001b[0m\u001b[0m\n",
      "\u001b[1;32m~\\Miniconda3\\envs\\satenv\\lib\\site-packages\\xarray\\core\\rolling.py\u001b[0m in \u001b[0;36mmethod\u001b[1;34m(self, **kwargs)\u001b[0m\n\u001b[0;32m    113\u001b[0m         \u001b[1;32mdef\u001b[0m \u001b[0mmethod\u001b[0m\u001b[1;33m(\u001b[0m\u001b[0mself\u001b[0m\u001b[1;33m,\u001b[0m \u001b[1;33m**\u001b[0m\u001b[0mkwargs\u001b[0m\u001b[1;33m)\u001b[0m\u001b[1;33m:\u001b[0m\u001b[1;33m\u001b[0m\u001b[1;33m\u001b[0m\u001b[0m\n\u001b[0;32m    114\u001b[0m             return self._numpy_or_bottleneck_reduce(\n\u001b[1;32m--> 115\u001b[1;33m                 \u001b[0marray_agg_func\u001b[0m\u001b[1;33m,\u001b[0m \u001b[0mbottleneck_move_func\u001b[0m\u001b[1;33m,\u001b[0m \u001b[1;33m**\u001b[0m\u001b[0mkwargs\u001b[0m\u001b[1;33m\u001b[0m\u001b[1;33m\u001b[0m\u001b[0m\n\u001b[0m\u001b[0;32m    116\u001b[0m             )\n\u001b[0;32m    117\u001b[0m \u001b[1;33m\u001b[0m\u001b[0m\n",
      "\u001b[1;32m~\\Miniconda3\\envs\\satenv\\lib\\site-packages\\xarray\\core\\rolling.py\u001b[0m in \u001b[0;36m_numpy_or_bottleneck_reduce\u001b[1;34m(self, array_agg_func, bottleneck_move_func, **kwargs)\u001b[0m\n\u001b[0;32m    454\u001b[0m                 \u001b[0mbottleneck_move_func\u001b[0m\u001b[1;33m=\u001b[0m\u001b[0mbottleneck_move_func\u001b[0m\u001b[1;33m,\u001b[0m\u001b[1;33m\u001b[0m\u001b[1;33m\u001b[0m\u001b[0m\n\u001b[0;32m    455\u001b[0m             ),\n\u001b[1;32m--> 456\u001b[1;33m             \u001b[1;33m**\u001b[0m\u001b[0mkwargs\u001b[0m\u001b[1;33m\u001b[0m\u001b[1;33m\u001b[0m\u001b[0m\n\u001b[0m\u001b[0;32m    457\u001b[0m         )\n\u001b[0;32m    458\u001b[0m \u001b[1;33m\u001b[0m\u001b[0m\n",
      "\u001b[1;32m~\\Miniconda3\\envs\\satenv\\lib\\site-packages\\xarray\\core\\rolling.py\u001b[0m in \u001b[0;36m_dataset_implementation\u001b[1;34m(self, func, **kwargs)\u001b[0m\n\u001b[0;32m    415\u001b[0m         \u001b[1;32mfor\u001b[0m \u001b[0mkey\u001b[0m\u001b[1;33m,\u001b[0m \u001b[0mda\u001b[0m \u001b[1;32min\u001b[0m \u001b[0mself\u001b[0m\u001b[1;33m.\u001b[0m\u001b[0mobj\u001b[0m\u001b[1;33m.\u001b[0m\u001b[0mdata_vars\u001b[0m\u001b[1;33m.\u001b[0m\u001b[0mitems\u001b[0m\u001b[1;33m(\u001b[0m\u001b[1;33m)\u001b[0m\u001b[1;33m:\u001b[0m\u001b[1;33m\u001b[0m\u001b[1;33m\u001b[0m\u001b[0m\n\u001b[0;32m    416\u001b[0m             \u001b[1;32mif\u001b[0m \u001b[0mself\u001b[0m\u001b[1;33m.\u001b[0m\u001b[0mdim\u001b[0m \u001b[1;32min\u001b[0m \u001b[0mda\u001b[0m\u001b[1;33m.\u001b[0m\u001b[0mdims\u001b[0m\u001b[1;33m:\u001b[0m\u001b[1;33m\u001b[0m\u001b[1;33m\u001b[0m\u001b[0m\n\u001b[1;32m--> 417\u001b[1;33m                 \u001b[0mreduced\u001b[0m\u001b[1;33m[\u001b[0m\u001b[0mkey\u001b[0m\u001b[1;33m]\u001b[0m \u001b[1;33m=\u001b[0m \u001b[0mfunc\u001b[0m\u001b[1;33m(\u001b[0m\u001b[0mself\u001b[0m\u001b[1;33m.\u001b[0m\u001b[0mrollings\u001b[0m\u001b[1;33m[\u001b[0m\u001b[0mkey\u001b[0m\u001b[1;33m]\u001b[0m\u001b[1;33m,\u001b[0m \u001b[1;33m**\u001b[0m\u001b[0mkwargs\u001b[0m\u001b[1;33m)\u001b[0m\u001b[1;33m\u001b[0m\u001b[1;33m\u001b[0m\u001b[0m\n\u001b[0m\u001b[0;32m    418\u001b[0m             \u001b[1;32melse\u001b[0m\u001b[1;33m:\u001b[0m\u001b[1;33m\u001b[0m\u001b[1;33m\u001b[0m\u001b[0m\n\u001b[0;32m    419\u001b[0m                 \u001b[0mreduced\u001b[0m\u001b[1;33m[\u001b[0m\u001b[0mkey\u001b[0m\u001b[1;33m]\u001b[0m \u001b[1;33m=\u001b[0m \u001b[0mself\u001b[0m\u001b[1;33m.\u001b[0m\u001b[0mobj\u001b[0m\u001b[1;33m[\u001b[0m\u001b[0mkey\u001b[0m\u001b[1;33m]\u001b[0m\u001b[1;33m\u001b[0m\u001b[1;33m\u001b[0m\u001b[0m\n",
      "\u001b[1;32m~\\Miniconda3\\envs\\satenv\\lib\\site-packages\\xarray\\core\\rolling.py\u001b[0m in \u001b[0;36m_numpy_or_bottleneck_reduce\u001b[1;34m(self, array_agg_func, bottleneck_move_func, **kwargs)\u001b[0m\n\u001b[0;32m    359\u001b[0m             \u001b[1;32mreturn\u001b[0m \u001b[0mself\u001b[0m\u001b[1;33m.\u001b[0m\u001b[0m_bottleneck_reduce\u001b[0m\u001b[1;33m(\u001b[0m\u001b[0mbottleneck_move_func\u001b[0m\u001b[1;33m,\u001b[0m \u001b[1;33m**\u001b[0m\u001b[0mkwargs\u001b[0m\u001b[1;33m)\u001b[0m\u001b[1;33m\u001b[0m\u001b[1;33m\u001b[0m\u001b[0m\n\u001b[0;32m    360\u001b[0m         \u001b[1;32melse\u001b[0m\u001b[1;33m:\u001b[0m\u001b[1;33m\u001b[0m\u001b[1;33m\u001b[0m\u001b[0m\n\u001b[1;32m--> 361\u001b[1;33m             \u001b[1;32mreturn\u001b[0m \u001b[0mself\u001b[0m\u001b[1;33m.\u001b[0m\u001b[0mreduce\u001b[0m\u001b[1;33m(\u001b[0m\u001b[0marray_agg_func\u001b[0m\u001b[1;33m,\u001b[0m \u001b[1;33m**\u001b[0m\u001b[0mkwargs\u001b[0m\u001b[1;33m)\u001b[0m\u001b[1;33m\u001b[0m\u001b[1;33m\u001b[0m\u001b[0m\n\u001b[0m\u001b[0;32m    362\u001b[0m \u001b[1;33m\u001b[0m\u001b[0m\n\u001b[0;32m    363\u001b[0m \u001b[1;33m\u001b[0m\u001b[0m\n",
      "\u001b[1;32m~\\Miniconda3\\envs\\satenv\\lib\\site-packages\\xarray\\core\\rolling.py\u001b[0m in \u001b[0;36mreduce\u001b[1;34m(self, func, **kwargs)\u001b[0m\n\u001b[0;32m    282\u001b[0m         \"\"\"\n\u001b[0;32m    283\u001b[0m         \u001b[0mrolling_dim\u001b[0m \u001b[1;33m=\u001b[0m \u001b[0mutils\u001b[0m\u001b[1;33m.\u001b[0m\u001b[0mget_temp_dimname\u001b[0m\u001b[1;33m(\u001b[0m\u001b[0mself\u001b[0m\u001b[1;33m.\u001b[0m\u001b[0mobj\u001b[0m\u001b[1;33m.\u001b[0m\u001b[0mdims\u001b[0m\u001b[1;33m,\u001b[0m \u001b[1;34m\"_rolling_dim\"\u001b[0m\u001b[1;33m)\u001b[0m\u001b[1;33m\u001b[0m\u001b[1;33m\u001b[0m\u001b[0m\n\u001b[1;32m--> 284\u001b[1;33m         \u001b[0mwindows\u001b[0m \u001b[1;33m=\u001b[0m \u001b[0mself\u001b[0m\u001b[1;33m.\u001b[0m\u001b[0mconstruct\u001b[0m\u001b[1;33m(\u001b[0m\u001b[0mrolling_dim\u001b[0m\u001b[1;33m)\u001b[0m\u001b[1;33m\u001b[0m\u001b[1;33m\u001b[0m\u001b[0m\n\u001b[0m\u001b[0;32m    285\u001b[0m         \u001b[0mresult\u001b[0m \u001b[1;33m=\u001b[0m \u001b[0mwindows\u001b[0m\u001b[1;33m.\u001b[0m\u001b[0mreduce\u001b[0m\u001b[1;33m(\u001b[0m\u001b[0mfunc\u001b[0m\u001b[1;33m,\u001b[0m \u001b[0mdim\u001b[0m\u001b[1;33m=\u001b[0m\u001b[0mrolling_dim\u001b[0m\u001b[1;33m,\u001b[0m \u001b[1;33m**\u001b[0m\u001b[0mkwargs\u001b[0m\u001b[1;33m)\u001b[0m\u001b[1;33m\u001b[0m\u001b[1;33m\u001b[0m\u001b[0m\n\u001b[0;32m    286\u001b[0m \u001b[1;33m\u001b[0m\u001b[0m\n",
      "\u001b[1;32m~\\Miniconda3\\envs\\satenv\\lib\\site-packages\\xarray\\core\\rolling.py\u001b[0m in \u001b[0;36mconstruct\u001b[1;34m(self, window_dim, stride, fill_value)\u001b[0m\n\u001b[0;32m    233\u001b[0m \u001b[1;33m\u001b[0m\u001b[0m\n\u001b[0;32m    234\u001b[0m         window = self.obj.variable.rolling_window(\n\u001b[1;32m--> 235\u001b[1;33m             \u001b[0mself\u001b[0m\u001b[1;33m.\u001b[0m\u001b[0mdim\u001b[0m\u001b[1;33m,\u001b[0m \u001b[0mself\u001b[0m\u001b[1;33m.\u001b[0m\u001b[0mwindow\u001b[0m\u001b[1;33m,\u001b[0m \u001b[0mwindow_dim\u001b[0m\u001b[1;33m,\u001b[0m \u001b[0mself\u001b[0m\u001b[1;33m.\u001b[0m\u001b[0mcenter\u001b[0m\u001b[1;33m,\u001b[0m \u001b[0mfill_value\u001b[0m\u001b[1;33m=\u001b[0m\u001b[0mfill_value\u001b[0m\u001b[1;33m\u001b[0m\u001b[1;33m\u001b[0m\u001b[0m\n\u001b[0m\u001b[0;32m    236\u001b[0m         )\n\u001b[0;32m    237\u001b[0m         result = DataArray(\n",
      "\u001b[1;32m~\\Miniconda3\\envs\\satenv\\lib\\site-packages\\xarray\\core\\variable.py\u001b[0m in \u001b[0;36mrolling_window\u001b[1;34m(self, dim, window, window_dim, center, fill_value)\u001b[0m\n\u001b[0;32m   1787\u001b[0m                 \u001b[0mwindow\u001b[0m\u001b[1;33m=\u001b[0m\u001b[0mwindow\u001b[0m\u001b[1;33m,\u001b[0m\u001b[1;33m\u001b[0m\u001b[1;33m\u001b[0m\u001b[0m\n\u001b[0;32m   1788\u001b[0m                 \u001b[0mcenter\u001b[0m\u001b[1;33m=\u001b[0m\u001b[0mcenter\u001b[0m\u001b[1;33m,\u001b[0m\u001b[1;33m\u001b[0m\u001b[1;33m\u001b[0m\u001b[0m\n\u001b[1;32m-> 1789\u001b[1;33m                 \u001b[0mfill_value\u001b[0m\u001b[1;33m=\u001b[0m\u001b[0mfill_value\u001b[0m\u001b[1;33m,\u001b[0m\u001b[1;33m\u001b[0m\u001b[1;33m\u001b[0m\u001b[0m\n\u001b[0m\u001b[0;32m   1790\u001b[0m             ),\n\u001b[0;32m   1791\u001b[0m         )\n",
      "\u001b[1;32m~\\Miniconda3\\envs\\satenv\\lib\\site-packages\\xarray\\core\\duck_array_ops.py\u001b[0m in \u001b[0;36mrolling_window\u001b[1;34m(array, axis, window, center, fill_value)\u001b[0m\n\u001b[0;32m    452\u001b[0m     \"\"\"\n\u001b[0;32m    453\u001b[0m     \u001b[1;32mif\u001b[0m \u001b[0misinstance\u001b[0m\u001b[1;33m(\u001b[0m\u001b[0marray\u001b[0m\u001b[1;33m,\u001b[0m \u001b[0mdask_array_type\u001b[0m\u001b[1;33m)\u001b[0m\u001b[1;33m:\u001b[0m\u001b[1;33m\u001b[0m\u001b[1;33m\u001b[0m\u001b[0m\n\u001b[1;32m--> 454\u001b[1;33m         \u001b[1;32mreturn\u001b[0m \u001b[0mdask_array_ops\u001b[0m\u001b[1;33m.\u001b[0m\u001b[0mrolling_window\u001b[0m\u001b[1;33m(\u001b[0m\u001b[0marray\u001b[0m\u001b[1;33m,\u001b[0m \u001b[0maxis\u001b[0m\u001b[1;33m,\u001b[0m \u001b[0mwindow\u001b[0m\u001b[1;33m,\u001b[0m \u001b[0mcenter\u001b[0m\u001b[1;33m,\u001b[0m \u001b[0mfill_value\u001b[0m\u001b[1;33m)\u001b[0m\u001b[1;33m\u001b[0m\u001b[1;33m\u001b[0m\u001b[0m\n\u001b[0m\u001b[0;32m    455\u001b[0m     \u001b[1;32melse\u001b[0m\u001b[1;33m:\u001b[0m  \u001b[1;31m# np.ndarray\u001b[0m\u001b[1;33m\u001b[0m\u001b[1;33m\u001b[0m\u001b[0m\n\u001b[0;32m    456\u001b[0m         \u001b[1;32mreturn\u001b[0m \u001b[0mnputils\u001b[0m\u001b[1;33m.\u001b[0m\u001b[0mrolling_window\u001b[0m\u001b[1;33m(\u001b[0m\u001b[0marray\u001b[0m\u001b[1;33m,\u001b[0m \u001b[0maxis\u001b[0m\u001b[1;33m,\u001b[0m \u001b[0mwindow\u001b[0m\u001b[1;33m,\u001b[0m \u001b[0mcenter\u001b[0m\u001b[1;33m,\u001b[0m \u001b[0mfill_value\u001b[0m\u001b[1;33m)\u001b[0m\u001b[1;33m\u001b[0m\u001b[1;33m\u001b[0m\u001b[0m\n",
      "\u001b[1;32m~\\Miniconda3\\envs\\satenv\\lib\\site-packages\\xarray\\core\\dask_array_ops.py\u001b[0m in \u001b[0;36mrolling_window\u001b[1;34m(a, axis, window, center, fill_value)\u001b[0m\n\u001b[0;32m     47\u001b[0m             \u001b[1;34m\"with a larger chunk size or a chunk size that\\n\"\u001b[0m\u001b[1;33m\u001b[0m\u001b[1;33m\u001b[0m\u001b[0m\n\u001b[0;32m     48\u001b[0m             \u001b[1;34m\"more evenly divides the shape of your array.\"\u001b[0m\u001b[1;33m\u001b[0m\u001b[1;33m\u001b[0m\u001b[0m\n\u001b[1;32m---> 49\u001b[1;33m             \u001b[1;33m%\u001b[0m \u001b[1;33m(\u001b[0m\u001b[0mwindow\u001b[0m\u001b[1;33m,\u001b[0m \u001b[0mdepth\u001b[0m\u001b[1;33m[\u001b[0m\u001b[0maxis\u001b[0m\u001b[1;33m]\u001b[0m\u001b[1;33m,\u001b[0m \u001b[0mmin\u001b[0m\u001b[1;33m(\u001b[0m\u001b[0ma\u001b[0m\u001b[1;33m.\u001b[0m\u001b[0mchunks\u001b[0m\u001b[1;33m[\u001b[0m\u001b[0maxis\u001b[0m\u001b[1;33m]\u001b[0m\u001b[1;33m)\u001b[0m\u001b[1;33m)\u001b[0m\u001b[1;33m\u001b[0m\u001b[1;33m\u001b[0m\u001b[0m\n\u001b[0m\u001b[0;32m     50\u001b[0m         )\n\u001b[0;32m     51\u001b[0m \u001b[1;33m\u001b[0m\u001b[0m\n",
      "\u001b[1;31mValueError\u001b[0m: For window size 12, every chunk should be larger than 6, but the smallest chunk size is 3. Rechunk your array\nwith a larger chunk size or a chunk size that\nmore evenly divides the shape of your array."
     ]
    }
   ],
   "source": [
    "#calculate frequency timeseries > 90th percentile, remove trends in data\n",
    "ds2=ds_sst.where(ds_sst.sst>-10)  #put all sst values < -10 to nan\n",
    "annual_mean = ds2.rolling(time=12, center=True).mean()\n",
    "ds3 = ds2-annual_mean  #take out annual mean to remove trends\n",
    "climatology_mean = ds3.groupby('time.month').mean('time')  #calculate monthly climatology to take out seasonal cycle\n",
    "anomalies = ds3.groupby('time.month') - climatology_mean  #calculate anomaly timeseries \n",
    "perc = anomalies.groupby('time.month').reduce(np.nanpercentile, dim='time', q=0.90)  #caluclate 90th percentile\n",
    "anomalies_perc = anomalies.groupby('time.month')/perc  #calculate anomaly fraction of 90th percentile\n",
    "perc_sum_data=anomalies_perc.where(anomalies_perc.sst>=1) #save when data >= 90th percentile\n",
    "norm = perc_sum_data / perc_sum_data  #this will put 1 where >=1 for summing\n",
    "psum = norm.groupby('time.year').sum(dim='time')  #sum over each year\n",
    "\n",
    "#calculate frequency timeseries > 90th percentile, do NOT remove trends in data\n",
    "ds2=ds_sst.where(ds_sst.sst>-10)  #put all sst values < -10 to nan\n",
    "climatology_mean = ds2.groupby('time.month').mean('time')  #calculate monthly climatology to take out seasonal cycle\n",
    "anomalies = ds2.groupby('time.month') - climatology_mean  #calculate anomaly timeseries \n",
    "perc = anomalies.groupby('time.month').reduce(np.nanpercentile, dim='time', q=0.90)  #caluclate 90th percentile\n",
    "anomalies_perc = anomalies.groupby('time.month')/perc  #calculate anomaly fraction of 90th percentile\n",
    "perc_sum_data=anomalies_perc.where(anomalies_perc.sst>=1) #save when data >= 90th percentile\n",
    "norm = perc_sum_data / perc_sum_data  #this will put 1 where >=1 for summing\n",
    "psum2 = norm.groupby('time.year').sum(dim='time')  #sum over each year\n"
   ]
  },
  {
   "cell_type": "code",
   "execution_count": null,
   "metadata": {},
   "outputs": [],
   "source": [
    "psum.sst[:,50,40].plot()\n",
    "psum2.sst[:,50,40].plot()\n",
    "#anomalies_perc.sst[:,100,40].plot()\n",
    "#climatology_std.sst[:,100,40].plot()\n",
    "#(ds2.sst[:,100,40]-annual_mean.sst[:,100,40]).plot()\n",
    "#a=anomalies_perc.groupby('time.year').sum()\n",
    "#a"
   ]
  },
  {
   "cell_type": "code",
   "execution_count": null,
   "metadata": {},
   "outputs": [],
   "source": [
    "#print(anomalies.latitude[40],anomalies.longitude[30])\n"
   ]
  },
  {
   "cell_type": "code",
   "execution_count": null,
   "metadata": {},
   "outputs": [],
   "source": [
    "#print(norm.sst[1:200,50,40])\n",
    "#hot = (ds2['sst'] >= climatology['sst']+climatology_std['sst']).groupby('time.month').mean('time')"
   ]
  },
  {
   "cell_type": "code",
   "execution_count": null,
   "metadata": {},
   "outputs": [],
   "source": [
    "print(psum)\n",
    "#stand_anomalies = xr.apply_ufunc(lambda x, m, s: x, # - (m + s),\n",
    "#   ....:                         ds2.groupby('time.month'),\n",
    "#   ....:                         climatology_mean, climatology_std)"
   ]
  },
  {
   "cell_type": "code",
   "execution_count": null,
   "metadata": {},
   "outputs": [],
   "source": [
    "#stand_anomalies.sst[:,40,50].plot()"
   ]
  },
  {
   "cell_type": "code",
   "execution_count": null,
   "metadata": {},
   "outputs": [],
   "source": []
  },
  {
   "cell_type": "code",
   "execution_count": null,
   "metadata": {},
   "outputs": [],
   "source": [
    "perc.sst[:,50,40].plot()"
   ]
  },
  {
   "cell_type": "code",
   "execution_count": null,
   "metadata": {},
   "outputs": [],
   "source": [
    "climatology_mean"
   ]
  },
  {
   "cell_type": "code",
   "execution_count": null,
   "metadata": {},
   "outputs": [],
   "source": []
  },
  {
   "cell_type": "code",
   "execution_count": null,
   "metadata": {},
   "outputs": [],
   "source": []
  }
 ],
 "metadata": {
  "kernelspec": {
   "display_name": "Python 3",
   "language": "python",
   "name": "python3"
  },
  "language_info": {
   "codemirror_mode": {
    "name": "ipython",
    "version": 3
   },
   "file_extension": ".py",
   "mimetype": "text/x-python",
   "name": "python",
   "nbconvert_exporter": "python",
   "pygments_lexer": "ipython3",
   "version": "3.7.3"
  }
 },
 "nbformat": 4,
 "nbformat_minor": 2
}
