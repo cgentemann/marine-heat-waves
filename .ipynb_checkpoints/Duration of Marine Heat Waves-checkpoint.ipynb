{
 "cells": [
  {
   "cell_type": "code",
   "execution_count": null,
   "metadata": {},
   "outputs": [],
   "source": [
    "import xarray as xr\n",
    "import numpy as np"
   ]
  },
  {
   "cell_type": "code",
   "execution_count": null,
   "metadata": {},
   "outputs": [],
   "source": [
    "filename_sst = 'F:/data/sst/hadisst/HadISST_sst.nc'\n",
    "#filename_sst = 'C:/Users/gentemann/Desktop/HadISST_sst.nc' #\"F:/data/sst/hadisst/HadISST_sst.nc\"\n",
    "ds_sst=xr.open_dataset(filename_sst)"
   ]
  },
  {
   "cell_type": "code",
   "execution_count": null,
   "metadata": {},
   "outputs": [],
   "source": [
    "ds_sst"
   ]
  },
  {
   "cell_type": "code",
   "execution_count": null,
   "metadata": {},
   "outputs": [],
   "source": [
    "#calculate frequency timeseries > 90th percentile, remove trends in data\n",
    "ds2=ds_sst.where(ds_sst.sst>-10)  #put all sst values < -10 to nan\n",
    "annual_mean = ds2.rolling(time=12, center=True).mean()\n",
    "ds3 = ds2-annual_mean  #take out annual mean to remove trends\n",
    "climatology_mean = ds3.groupby('time.month').mean('time')  #calculate monthly climatology to take out seasonal cycle\n",
    "anomalies = ds3.groupby('time.month') - climatology_mean  #calculate anomaly timeseries \n",
    "perc = anomalies.groupby('time.month').reduce(np.nanpercentile, dim='time', q=0.90)  #caluclate 90th percentile\n",
    "anomalies_perc = anomalies.groupby('time.month')/perc  #calculate anomaly fraction of 90th percentile\n",
    "perc_sum_data=anomalies_perc.where(anomalies_perc.sst>=1) #save when data >= 90th percentile\n",
    "norm = perc_sum_data / perc_sum_data  #this will put 1 where >=1 for summing\n",
    "psum = norm.groupby('time.year').sum(dim='time')  #sum over each year\n",
    "\n",
    "#calculate frequency timeseries > 90th percentile, do NOT remove trends in data\n",
    "ds2=ds_sst.where(ds_sst.sst>-10)  #put all sst values < -10 to nan\n",
    "climatology_mean = ds2.groupby('time.month').mean('time')  #calculate monthly climatology to take out seasonal cycle\n",
    "anomalies = ds2.groupby('time.month') - climatology_mean  #calculate anomaly timeseries \n",
    "perc = anomalies.groupby('time.month').reduce(np.nanpercentile, dim='time', q=0.90)  #caluclate 90th percentile\n",
    "anomalies_perc = anomalies.groupby('time.month')/perc  #calculate anomaly fraction of 90th percentile\n",
    "perc_sum_data=anomalies_perc.where(anomalies_perc.sst>=1) #save when data >= 90th percentile\n",
    "norm = perc_sum_data / perc_sum_data  #this will put 1 where >=1 for summing\n",
    "psum2 = norm.groupby('time.year').sum(dim='time')  #sum over each year\n"
   ]
  },
  {
   "cell_type": "code",
   "execution_count": null,
   "metadata": {},
   "outputs": [],
   "source": [
    "psum.sst[:,50,40].plot()\n",
    "psum2.sst[:,50,40].plot()\n",
    "#anomalies_perc.sst[:,100,40].plot()\n",
    "#climatology_std.sst[:,100,40].plot()\n",
    "#(ds2.sst[:,100,40]-annual_mean.sst[:,100,40]).plot()\n",
    "#a=anomalies_perc.groupby('time.year').sum()\n",
    "#a"
   ]
  },
  {
   "cell_type": "code",
   "execution_count": null,
   "metadata": {},
   "outputs": [],
   "source": [
    "#print(anomalies.latitude[40],anomalies.longitude[30])\n"
   ]
  },
  {
   "cell_type": "code",
   "execution_count": null,
   "metadata": {},
   "outputs": [],
   "source": [
    "#print(norm.sst[1:200,50,40])\n",
    "#hot = (ds2['sst'] >= climatology['sst']+climatology_std['sst']).groupby('time.month').mean('time')"
   ]
  },
  {
   "cell_type": "code",
   "execution_count": null,
   "metadata": {},
   "outputs": [],
   "source": [
    "print(psum)\n",
    "#stand_anomalies = xr.apply_ufunc(lambda x, m, s: x, # - (m + s),\n",
    "#   ....:                         ds2.groupby('time.month'),\n",
    "#   ....:                         climatology_mean, climatology_std)"
   ]
  },
  {
   "cell_type": "code",
   "execution_count": null,
   "metadata": {},
   "outputs": [],
   "source": [
    "#stand_anomalies.sst[:,40,50].plot()"
   ]
  },
  {
   "cell_type": "code",
   "execution_count": null,
   "metadata": {},
   "outputs": [],
   "source": []
  },
  {
   "cell_type": "code",
   "execution_count": null,
   "metadata": {},
   "outputs": [],
   "source": [
    "perc.sst[:,50,40].plot()"
   ]
  },
  {
   "cell_type": "code",
   "execution_count": null,
   "metadata": {},
   "outputs": [],
   "source": [
    "climatology_mean"
   ]
  },
  {
   "cell_type": "code",
   "execution_count": null,
   "metadata": {},
   "outputs": [],
   "source": []
  },
  {
   "cell_type": "code",
   "execution_count": null,
   "metadata": {},
   "outputs": [],
   "source": []
  }
 ],
 "metadata": {
  "kernelspec": {
   "display_name": "Python 3",
   "language": "python",
   "name": "python3"
  },
  "language_info": {
   "codemirror_mode": {
    "name": "ipython",
    "version": 3
   },
   "file_extension": ".py",
   "mimetype": "text/x-python",
   "name": "python",
   "nbconvert_exporter": "python",
   "pygments_lexer": "ipython3",
   "version": "3.8.3"
  }
 },
 "nbformat": 4,
 "nbformat_minor": 2
}
